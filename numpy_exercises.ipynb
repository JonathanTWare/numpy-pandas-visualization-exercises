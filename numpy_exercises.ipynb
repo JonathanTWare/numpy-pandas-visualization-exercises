{
 "cells": [
  {
   "cell_type": "markdown",
   "id": "a0ff2f6a",
   "metadata": {},
   "source": [
    "## Use the following code for the questions below:"
   ]
  },
  {
   "cell_type": "code",
   "execution_count": 1,
   "id": "56a74620",
   "metadata": {},
   "outputs": [],
   "source": [
    "import numpy as np\n"
   ]
  },
  {
   "cell_type": "code",
   "execution_count": 2,
   "id": "30242ef0",
   "metadata": {},
   "outputs": [],
   "source": [
    "a = np.array([4, 10, 12, 23, -2, -1, 0, 0, 0, -6, 3, -7])"
   ]
  },
  {
   "cell_type": "markdown",
   "id": "812fd342",
   "metadata": {},
   "source": [
    "### 1. How many negative numbers are there?"
   ]
  },
  {
   "cell_type": "code",
   "execution_count": 3,
   "id": "bc73a152",
   "metadata": {},
   "outputs": [
    {
     "data": {
      "text/plain": [
       "array([-2, -1, -6, -7])"
      ]
     },
     "execution_count": 3,
     "metadata": {},
     "output_type": "execute_result"
    }
   ],
   "source": [
    "a[a < 0]"
   ]
  },
  {
   "cell_type": "markdown",
   "id": "4d2649ab",
   "metadata": {},
   "source": [
    "### 2. How many positive numbers are there?"
   ]
  },
  {
   "cell_type": "code",
   "execution_count": 4,
   "id": "e99bdf2f",
   "metadata": {},
   "outputs": [
    {
     "data": {
      "text/plain": [
       "array([ 4, 10, 12, 23,  3])"
      ]
     },
     "execution_count": 4,
     "metadata": {},
     "output_type": "execute_result"
    }
   ],
   "source": [
    "a[a > 0]"
   ]
  },
  {
   "cell_type": "markdown",
   "id": "5ca50b0d",
   "metadata": {},
   "source": [
    "### 3. How many even positive numbers are there?"
   ]
  },
  {
   "cell_type": "code",
   "execution_count": 5,
   "id": "4be750c1",
   "metadata": {},
   "outputs": [
    {
     "data": {
      "text/plain": [
       "array([ 4, 10, 12])"
      ]
     },
     "execution_count": 5,
     "metadata": {},
     "output_type": "execute_result"
    }
   ],
   "source": [
    "a[(a > 0) & (a % 2 ==0)]"
   ]
  },
  {
   "cell_type": "markdown",
   "id": "86155a81",
   "metadata": {},
   "source": [
    "### 4. If you were to add 3 to each data point, how many positive numbers would there be?"
   ]
  },
  {
   "cell_type": "code",
   "execution_count": 6,
   "id": "cd82e088",
   "metadata": {},
   "outputs": [],
   "source": [
    "my_array = a + 3"
   ]
  },
  {
   "cell_type": "code",
   "execution_count": 7,
   "id": "e286a979",
   "metadata": {},
   "outputs": [
    {
     "data": {
      "text/plain": [
       "array([ 7, 13, 15, 26,  1,  2,  3,  3,  3, -3,  6, -4])"
      ]
     },
     "execution_count": 7,
     "metadata": {},
     "output_type": "execute_result"
    }
   ],
   "source": [
    "my_array"
   ]
  },
  {
   "cell_type": "code",
   "execution_count": 8,
   "id": "0ebd7344",
   "metadata": {
    "scrolled": true
   },
   "outputs": [],
   "source": [
    "count = my_array[my_array > 0]"
   ]
  },
  {
   "cell_type": "code",
   "execution_count": 9,
   "id": "a670cb92",
   "metadata": {},
   "outputs": [
    {
     "data": {
      "text/plain": [
       "10"
      ]
     },
     "execution_count": 9,
     "metadata": {},
     "output_type": "execute_result"
    }
   ],
   "source": [
    "len(count)"
   ]
  },
  {
   "cell_type": "markdown",
   "id": "9f5ae9f4",
   "metadata": {},
   "source": [
    "### 5. If you squared each number, what would the new mean and standard deviation be?"
   ]
  },
  {
   "cell_type": "code",
   "execution_count": 10,
   "id": "18879e7c",
   "metadata": {},
   "outputs": [],
   "source": [
    "squared_array = a **2"
   ]
  },
  {
   "cell_type": "code",
   "execution_count": 11,
   "id": "79f7b77e",
   "metadata": {},
   "outputs": [
    {
     "data": {
      "text/plain": [
       "array([ 16, 100, 144, 529,   4,   1,   0,   0,   0,  36,   9,  49])"
      ]
     },
     "execution_count": 11,
     "metadata": {},
     "output_type": "execute_result"
    }
   ],
   "source": [
    "squared_array"
   ]
  },
  {
   "cell_type": "code",
   "execution_count": 12,
   "id": "ba350fbb",
   "metadata": {},
   "outputs": [],
   "source": [
    "std_array = np.std(squared_array)"
   ]
  },
  {
   "cell_type": "code",
   "execution_count": 13,
   "id": "c26a6d7a",
   "metadata": {},
   "outputs": [
    {
     "data": {
      "text/plain": [
       "144.0243035046516"
      ]
     },
     "execution_count": 13,
     "metadata": {},
     "output_type": "execute_result"
    }
   ],
   "source": [
    "std_array"
   ]
  },
  {
   "cell_type": "markdown",
   "id": "6a1eec99",
   "metadata": {},
   "source": [
    "### 6. A common statistical operation on a dataset is centering. This means to adjust the data such that the mean of the data is 0. This is done by subtracting the mean from each data point. Center the data set. See this link for more on centering."
   ]
  },
  {
   "cell_type": "code",
   "execution_count": 14,
   "id": "0acb0a0b",
   "metadata": {},
   "outputs": [],
   "source": [
    "mean_array = np.mean(a)"
   ]
  },
  {
   "cell_type": "code",
   "execution_count": 15,
   "id": "8ed6b69f",
   "metadata": {
    "scrolled": true
   },
   "outputs": [
    {
     "data": {
      "text/plain": [
       "3.0"
      ]
     },
     "execution_count": 15,
     "metadata": {},
     "output_type": "execute_result"
    }
   ],
   "source": [
    "mean_array"
   ]
  },
  {
   "cell_type": "code",
   "execution_count": 16,
   "id": "6afce1ec",
   "metadata": {},
   "outputs": [],
   "source": [
    "center_array = a - 3.0"
   ]
  },
  {
   "cell_type": "code",
   "execution_count": 17,
   "id": "ac1c4270",
   "metadata": {
    "scrolled": true
   },
   "outputs": [
    {
     "data": {
      "text/plain": [
       "array([  1.,   7.,   9.,  20.,  -5.,  -4.,  -3.,  -3.,  -3.,  -9.,   0.,\n",
       "       -10.])"
      ]
     },
     "execution_count": 17,
     "metadata": {},
     "output_type": "execute_result"
    }
   ],
   "source": [
    "center_array"
   ]
  },
  {
   "cell_type": "markdown",
   "id": "14141b8a",
   "metadata": {},
   "source": [
    "#### to double check answer"
   ]
  },
  {
   "cell_type": "code",
   "execution_count": 18,
   "id": "cf00a65e",
   "metadata": {},
   "outputs": [
    {
     "data": {
      "text/plain": [
       "0.0"
      ]
     },
     "execution_count": 18,
     "metadata": {},
     "output_type": "execute_result"
    }
   ],
   "source": [
    "np.mean(center_array)"
   ]
  },
  {
   "cell_type": "markdown",
   "id": "e515210e",
   "metadata": {},
   "source": [
    "### 7.Calculate the z-score for each data point. Recall that the z-score is given by:\n",
    "\n",
    "```\n",
    "Z = x - μ\n",
    "   _______\n",
    "      σ\n",
    "```\n",
    "\n"
   ]
  },
  {
   "cell_type": "code",
   "execution_count": 19,
   "id": "98411f1d",
   "metadata": {},
   "outputs": [],
   "source": [
    "mean = np.mean(a)"
   ]
  },
  {
   "cell_type": "code",
   "execution_count": 20,
   "id": "ad643e22",
   "metadata": {},
   "outputs": [],
   "source": [
    "std = np.std(a)"
   ]
  },
  {
   "cell_type": "code",
   "execution_count": 21,
   "id": "10beab0c",
   "metadata": {},
   "outputs": [],
   "source": [
    "z_score = (a - mean)/(std)"
   ]
  },
  {
   "cell_type": "code",
   "execution_count": 22,
   "id": "ca0a0416",
   "metadata": {},
   "outputs": [
    {
     "data": {
      "text/plain": [
       "array([ 0.12403473,  0.86824314,  1.11631261,  2.48069469, -0.62017367,\n",
       "       -0.49613894, -0.3721042 , -0.3721042 , -0.3721042 , -1.11631261,\n",
       "        0.        , -1.24034735])"
      ]
     },
     "execution_count": 22,
     "metadata": {},
     "output_type": "execute_result"
    }
   ],
   "source": [
    "z_score"
   ]
  },
  {
   "cell_type": "markdown",
   "id": "e0c6e493",
   "metadata": {},
   "source": [
    "# 8a.\n",
    "\n",
    "import numpy as np\n",
    "# Life w/o numpy to life with numpy\n",
    "\n",
    "### Setup 1\n",
    "a = [1, 2, 3, 4, 5, 6, 7, 8, 9, 10]\n",
    "\n",
    "### Use python's built in functionality/operators to determine the following:\n",
    "### Exercise 1 - Make a variable called sum_of_a to hold the sum of all the numbers in above list\n",
    "\n",
    "### Exercise 2 - Make a variable named min_of_a to hold the minimum of all the numbers in the above list\n",
    "\n",
    "### Exercise 3 - Make a variable named max_of_a to hold the max number of all the numbers in the above list\n",
    "\n",
    "### Exercise 4 - Make a variable named mean_of_a to hold the average of all the numbers in the above list\n",
    "\n",
    "### Exercise 5 - Make a variable named product_of_a to hold the product of multiplying all the numbers in the above list together\n",
    "\n",
    "### Exercise 6 - Make a variable named squares_of_a. It should hold each number in a squared like [1, 4, 9, 16, 25...]\n",
    "\n",
    "### Exercise 7 - Make a variable named odds_in_a. It should hold only the odd numbers\n",
    "\n",
    "### Exercise 8 - Make a variable named evens_in_a. It should hold only the evens.\n",
    "\n",
    "### What about life in two dimensions? A list of lists is matrix, a table, a spreadsheet, a chessboard...\n",
    "### Setup 2: Consider what it would take to find the sum, min, max, average, sum, product, and list of squares for this list of two lists.\n",
    "b = [\n",
    "    [3, 4, 5],\n",
    "    [6, 7, 8]\n",
    "]\n",
    "\n",
    "\n"
   ]
  },
  {
   "cell_type": "markdown",
   "id": "b1fe3bf4",
   "metadata": {},
   "source": [
    "#### 1 - Make a variable called sum_of_a to hold the sum of all the numbers in above list"
   ]
  },
  {
   "cell_type": "code",
   "execution_count": 23,
   "id": "bbc1c72f",
   "metadata": {},
   "outputs": [],
   "source": [
    "import numpy as np"
   ]
  },
  {
   "cell_type": "code",
   "execution_count": 24,
   "id": "4ace1936",
   "metadata": {},
   "outputs": [],
   "source": [
    "a = [1, 2, 3, 4, 5, 6, 7, 8, 9, 10]"
   ]
  },
  {
   "cell_type": "code",
   "execution_count": 25,
   "id": "0ce165d6",
   "metadata": {},
   "outputs": [],
   "source": [
    "sum_of_a = np.sum(a)"
   ]
  },
  {
   "cell_type": "code",
   "execution_count": 26,
   "id": "43d884cf",
   "metadata": {},
   "outputs": [
    {
     "data": {
      "text/plain": [
       "55"
      ]
     },
     "execution_count": 26,
     "metadata": {},
     "output_type": "execute_result"
    }
   ],
   "source": [
    "sum_of_a"
   ]
  },
  {
   "cell_type": "markdown",
   "id": "f7bbeed7",
   "metadata": {},
   "source": [
    "#### or"
   ]
  },
  {
   "cell_type": "code",
   "execution_count": 27,
   "id": "af2d5976",
   "metadata": {},
   "outputs": [
    {
     "data": {
      "text/plain": [
       "55"
      ]
     },
     "execution_count": 27,
     "metadata": {},
     "output_type": "execute_result"
    }
   ],
   "source": [
    "sum(a)"
   ]
  },
  {
   "cell_type": "markdown",
   "id": "02c610de",
   "metadata": {},
   "source": [
    "#### 2 - Make a variable named min_of_a to hold the minimum of all the numbers in the above list"
   ]
  },
  {
   "cell_type": "code",
   "execution_count": 28,
   "id": "77c15aa0",
   "metadata": {},
   "outputs": [],
   "source": [
    "min_of_a = np.min(a)"
   ]
  },
  {
   "cell_type": "code",
   "execution_count": 29,
   "id": "362ca9e9",
   "metadata": {},
   "outputs": [
    {
     "data": {
      "text/plain": [
       "1"
      ]
     },
     "execution_count": 29,
     "metadata": {},
     "output_type": "execute_result"
    }
   ],
   "source": [
    "min_of_a"
   ]
  },
  {
   "cell_type": "markdown",
   "id": "9854410a",
   "metadata": {},
   "source": [
    "#### or"
   ]
  },
  {
   "cell_type": "code",
   "execution_count": 30,
   "id": "aef47815",
   "metadata": {},
   "outputs": [
    {
     "data": {
      "text/plain": [
       "1"
      ]
     },
     "execution_count": 30,
     "metadata": {},
     "output_type": "execute_result"
    }
   ],
   "source": [
    "min(a)"
   ]
  },
  {
   "cell_type": "markdown",
   "id": "cd9f823d",
   "metadata": {},
   "source": [
    "#### 3 - Make a variable named max_of_a to hold the max number of all the numbers in the above list"
   ]
  },
  {
   "cell_type": "code",
   "execution_count": 31,
   "id": "4ad579c8",
   "metadata": {},
   "outputs": [],
   "source": [
    "max_of_a = np.max(a)"
   ]
  },
  {
   "cell_type": "code",
   "execution_count": 32,
   "id": "e1d3a46b",
   "metadata": {
    "scrolled": false
   },
   "outputs": [
    {
     "data": {
      "text/plain": [
       "10"
      ]
     },
     "execution_count": 32,
     "metadata": {},
     "output_type": "execute_result"
    }
   ],
   "source": [
    "max_of_a"
   ]
  },
  {
   "cell_type": "markdown",
   "id": "1b078a1e",
   "metadata": {},
   "source": [
    "#### or"
   ]
  },
  {
   "cell_type": "code",
   "execution_count": 33,
   "id": "1b6ee1d8",
   "metadata": {},
   "outputs": [
    {
     "data": {
      "text/plain": [
       "10"
      ]
     },
     "execution_count": 33,
     "metadata": {},
     "output_type": "execute_result"
    }
   ],
   "source": [
    "max(a)"
   ]
  },
  {
   "cell_type": "markdown",
   "id": "af0067c2",
   "metadata": {},
   "source": [
    "#### 4 - Make a variable named mean_of_a to hold the average of all the numbers in the above list"
   ]
  },
  {
   "cell_type": "code",
   "execution_count": 34,
   "id": "cc794392",
   "metadata": {},
   "outputs": [],
   "source": [
    "mean_of_a = np.mean(a)"
   ]
  },
  {
   "cell_type": "code",
   "execution_count": 35,
   "id": "d5826dd2",
   "metadata": {
    "scrolled": false
   },
   "outputs": [
    {
     "data": {
      "text/plain": [
       "5.5"
      ]
     },
     "execution_count": 35,
     "metadata": {},
     "output_type": "execute_result"
    }
   ],
   "source": [
    "mean_of_a"
   ]
  },
  {
   "cell_type": "markdown",
   "id": "24f4ff8f",
   "metadata": {},
   "source": [
    "#### or"
   ]
  },
  {
   "cell_type": "code",
   "execution_count": 36,
   "id": "1b819c3b",
   "metadata": {
    "scrolled": true
   },
   "outputs": [
    {
     "data": {
      "text/plain": [
       "5.5"
      ]
     },
     "execution_count": 36,
     "metadata": {},
     "output_type": "execute_result"
    }
   ],
   "source": [
    "sum(a)/len(a)"
   ]
  },
  {
   "cell_type": "markdown",
   "id": "6959ae1c",
   "metadata": {},
   "source": [
    "#### 5 - Make a variable named product_of_a to hold the product of multiplying all the numbers in the above list together"
   ]
  },
  {
   "cell_type": "code",
   "execution_count": 37,
   "id": "36e1a19f",
   "metadata": {},
   "outputs": [],
   "source": [
    "product_of_a = np.prod(a)"
   ]
  },
  {
   "cell_type": "code",
   "execution_count": 38,
   "id": "7f9d2dcf",
   "metadata": {
    "scrolled": true
   },
   "outputs": [
    {
     "data": {
      "text/plain": [
       "3628800"
      ]
     },
     "execution_count": 38,
     "metadata": {},
     "output_type": "execute_result"
    }
   ],
   "source": [
    "product_of_a"
   ]
  },
  {
   "cell_type": "markdown",
   "id": "e37b1414",
   "metadata": {},
   "source": [
    "#### or"
   ]
  },
  {
   "cell_type": "code",
   "execution_count": 39,
   "id": "27148fbb",
   "metadata": {},
   "outputs": [
    {
     "name": "stdout",
     "output_type": "stream",
     "text": [
      "1\n",
      "2\n",
      "6\n",
      "24\n",
      "120\n",
      "720\n",
      "5040\n",
      "40320\n",
      "362880\n",
      "3628800\n"
     ]
    }
   ],
   "source": [
    "product = 1\n",
    "for item in a:\n",
    "    product *= item\n",
    "    print(product)"
   ]
  },
  {
   "cell_type": "markdown",
   "id": "990ce5cc",
   "metadata": {},
   "source": [
    "#### 6 - Make a variable named squares_of_a. It should hold each number in a squared like [1, 4, 9, 16, 25...]\n"
   ]
  },
  {
   "cell_type": "code",
   "execution_count": 40,
   "id": "de598218",
   "metadata": {},
   "outputs": [],
   "source": [
    "squares_of_a = np.square(a)"
   ]
  },
  {
   "cell_type": "code",
   "execution_count": 41,
   "id": "caa53d3c",
   "metadata": {},
   "outputs": [
    {
     "data": {
      "text/plain": [
       "array([  1,   4,   9,  16,  25,  36,  49,  64,  81, 100])"
      ]
     },
     "execution_count": 41,
     "metadata": {},
     "output_type": "execute_result"
    }
   ],
   "source": [
    "squares_of_a"
   ]
  },
  {
   "cell_type": "markdown",
   "id": "00853297",
   "metadata": {},
   "source": [
    "#### or"
   ]
  },
  {
   "cell_type": "code",
   "execution_count": 42,
   "id": "aa27678a",
   "metadata": {
    "scrolled": true
   },
   "outputs": [
    {
     "name": "stdout",
     "output_type": "stream",
     "text": [
      "1\n",
      "4\n",
      "9\n",
      "16\n",
      "25\n",
      "36\n",
      "49\n",
      "64\n",
      "81\n",
      "100\n"
     ]
    }
   ],
   "source": [
    "for squares in a:\n",
    "    squares *= squares\n",
    "    print (squares)"
   ]
  },
  {
   "cell_type": "markdown",
   "id": "7251d428",
   "metadata": {},
   "source": [
    "#### 7 - Make a variable named odds_in_a. It should hold only the odd numbers¶"
   ]
  },
  {
   "cell_type": "code",
   "execution_count": 43,
   "id": "97584dee",
   "metadata": {},
   "outputs": [],
   "source": [
    "import numpy as np"
   ]
  },
  {
   "cell_type": "code",
   "execution_count": 44,
   "id": "6e850635",
   "metadata": {},
   "outputs": [],
   "source": [
    "a = [1, 2, 3, 4, 5, 6, 7, 8, 9, 10]"
   ]
  },
  {
   "cell_type": "code",
   "execution_count": 45,
   "id": "a41ca1c8",
   "metadata": {
    "scrolled": true
   },
   "outputs": [
    {
     "name": "stdout",
     "output_type": "stream",
     "text": [
      "[1, 3, 5, 7, 9]\n"
     ]
    }
   ],
   "source": [
    "odds_in_a = [number for number in a if number % 2 != 0]\n",
    "print(odds_in_a)"
   ]
  },
  {
   "cell_type": "markdown",
   "id": "03bde6b9",
   "metadata": {},
   "source": [
    "#### 8 - Make a variable named evens_in_a. It should hold only the evens.\n"
   ]
  },
  {
   "cell_type": "code",
   "execution_count": 46,
   "id": "77a46ec2",
   "metadata": {},
   "outputs": [
    {
     "name": "stdout",
     "output_type": "stream",
     "text": [
      "[2, 4, 6, 8, 10]\n"
     ]
    }
   ],
   "source": [
    "evens_in_a = [number for number in a if number % 2 == 0]\n",
    "print(evens_in_a)"
   ]
  },
  {
   "cell_type": "markdown",
   "id": "3f302e1b",
   "metadata": {},
   "source": [
    "### What about life in two dimensions? A list of lists is matrix, a table, a spreadsheet, a chessboard...¶\n"
   ]
  },
  {
   "cell_type": "markdown",
   "id": "a455cc33",
   "metadata": {},
   "source": [
    "# 8b.\n",
    "\n",
    "Setup 2: Consider what it would take to find the sum, min, max, average, sum, product, and list of squares for this list of two lists.\n",
    "b = [ [3, 4, 5], [6, 7, 8] ]\n",
    "\n",
    "### Exercise 1 - refactor the following to use numpy. Use sum_of_b as the variable. **Hint, you'll first need to make sure that the \"b\" variable is a numpy array**\n",
    "```\n",
    "sum_of_b = 0\n",
    "for row in b:\n",
    "    sum_of_b += sum(row)\n",
    "```\n",
    "### Exercise 2 - refactor the following to use numpy. \n",
    "min_of_b = min(b[0]) if min(b[0]) <= min(b[1]) else min(b[1])  \n",
    "\n",
    "### Exercise 3 - refactor the following maximum calculation to find the answer with numpy.\n",
    "max_of_b = max(b[0]) if max(b[0]) >= max(b[1]) else max(b[1])\n",
    "\n",
    "\n",
    "### Exercise 4 - refactor the following using numpy to find the mean of b\n",
    "mean_of_b = (sum(b[0]) + sum(b[1])) / (len(b[0]) + len(b[1]))\n",
    "\n",
    "### Exercise 5 - refactor the following to use numpy for calculating the product of all numbers multiplied together.\n",
    "```\n",
    "product_of_b = 1\n",
    "for row in b:\n",
    "    for number in row:\n",
    "        product_of_b *= number\n",
    "```\n",
    "### Exercise 6 - refactor the following to use numpy to find the list of squares \n",
    "```\n",
    "squares_of_b = []\n",
    "for row in b:\n",
    "    for number in row:\n",
    "        squares_of_b.append(number**2)\n",
    "```\n",
    "\n",
    "### Exercise 7 - refactor using numpy to determine the odds_in_b\n",
    "```\n",
    "odds_in_b = []\n",
    "for row in b:\n",
    "    for number in row:\n",
    "        if(number % 2 != 0):\n",
    "            odds_in_b.append(number)\n",
    "```\n",
    "\n",
    "\n",
    "### Exercise 8 - refactor the following to use numpy to filter only the even numbers\n",
    "```\n",
    "evens_in_b = []\n",
    "for row in b:\n",
    "    for number in row:\n",
    "        if(number % 2 == 0):\n",
    "            evens_in_b.append(number)\n",
    "```\n",
    "\n",
    "### Exercise 9 - print out the shape of the array b.\n",
    "\n",
    "### Exercise 10 - transpose the array b.\n",
    "\n",
    "### Exercise 11 - reshape the array b to be a single list of 6 numbers. (1 x 6)\n",
    "\n",
    "### Exercise 12 - reshape the array b to be a list of 6 lists, each containing only 1 number (6 x 1)\n",
    "\n"
   ]
  },
  {
   "cell_type": "markdown",
   "id": "352b7df9",
   "metadata": {},
   "source": [
    "#### 1 - refactor the following to use numpy. Use sum_of_b as the variable. Hint, you'll first need to make sure that the \"b\" variable is a numpy array¶\n",
    "```\n",
    "sum_of_b = 0\n",
    "for row in b:\n",
    "    sum_of_b += sum(row)\n",
    "```"
   ]
  },
  {
   "cell_type": "code",
   "execution_count": 47,
   "id": "b5ab5852",
   "metadata": {},
   "outputs": [],
   "source": [
    "b = [ [3, 4, 5], [6, 7, 8] ]"
   ]
  },
  {
   "cell_type": "code",
   "execution_count": 48,
   "id": "c4825cbc",
   "metadata": {},
   "outputs": [],
   "source": [
    "sum_of_b = np.sum(b)"
   ]
  },
  {
   "cell_type": "code",
   "execution_count": 49,
   "id": "d75e4f3e",
   "metadata": {},
   "outputs": [
    {
     "data": {
      "text/plain": [
       "33"
      ]
     },
     "execution_count": 49,
     "metadata": {},
     "output_type": "execute_result"
    }
   ],
   "source": [
    "sum_of_b"
   ]
  },
  {
   "cell_type": "markdown",
   "id": "9314c0af",
   "metadata": {},
   "source": [
    "#### 2 - refactor the following to use numpy.\n",
    "min_of_b = min(b[0]) if min(b[0]) <= min(b[1]) else min(b[1])\n",
    "\n"
   ]
  },
  {
   "cell_type": "code",
   "execution_count": 50,
   "id": "d858e182",
   "metadata": {},
   "outputs": [],
   "source": [
    "min_of_b = np.min(b)"
   ]
  },
  {
   "cell_type": "code",
   "execution_count": 51,
   "id": "0849938f",
   "metadata": {},
   "outputs": [
    {
     "data": {
      "text/plain": [
       "3"
      ]
     },
     "execution_count": 51,
     "metadata": {},
     "output_type": "execute_result"
    }
   ],
   "source": [
    "min_of_b"
   ]
  },
  {
   "cell_type": "markdown",
   "id": "10d39ec9",
   "metadata": {},
   "source": [
    "#### 3 - refactor the following maximum calculation to find the answer with numpy.\n",
    "max_of_b = max(b[0]) if max(b[0]) >= max(b[1]) else max(b[1])\n",
    "\n"
   ]
  },
  {
   "cell_type": "code",
   "execution_count": 52,
   "id": "4dbc82f6",
   "metadata": {},
   "outputs": [],
   "source": [
    "max_of_b = np.max(b)"
   ]
  },
  {
   "cell_type": "code",
   "execution_count": 53,
   "id": "e5ada92c",
   "metadata": {},
   "outputs": [
    {
     "data": {
      "text/plain": [
       "8"
      ]
     },
     "execution_count": 53,
     "metadata": {},
     "output_type": "execute_result"
    }
   ],
   "source": [
    "max_of_b"
   ]
  },
  {
   "cell_type": "markdown",
   "id": "495cdb00",
   "metadata": {},
   "source": [
    "#### 4 - refactor the following using numpy to find the mean of b¶\n",
    "mean_of_b = (sum(b[0]) + sum(b[1])) / (len(b[0]) + len(b[1]))"
   ]
  },
  {
   "cell_type": "code",
   "execution_count": 54,
   "id": "7627e3df",
   "metadata": {},
   "outputs": [],
   "source": [
    "mean_of_b = np.mean(b)"
   ]
  },
  {
   "cell_type": "code",
   "execution_count": 55,
   "id": "d1dca625",
   "metadata": {},
   "outputs": [
    {
     "data": {
      "text/plain": [
       "5.5"
      ]
     },
     "execution_count": 55,
     "metadata": {},
     "output_type": "execute_result"
    }
   ],
   "source": [
    "mean_of_b"
   ]
  },
  {
   "cell_type": "markdown",
   "id": "75555a96",
   "metadata": {},
   "source": [
    "#### 5 - refactor the following to use numpy for calculating the product of all numbers multiplied together.\n",
    "product_of_b = 1\n",
    "for row in b:\n",
    "    for number in row:\n",
    "        product_of_b *= number\n"
   ]
  },
  {
   "cell_type": "code",
   "execution_count": 56,
   "id": "2371398f",
   "metadata": {},
   "outputs": [],
   "source": [
    "product_of_b = np.product(b)"
   ]
  },
  {
   "cell_type": "code",
   "execution_count": 57,
   "id": "25f8b49d",
   "metadata": {},
   "outputs": [
    {
     "data": {
      "text/plain": [
       "20160"
      ]
     },
     "execution_count": 57,
     "metadata": {},
     "output_type": "execute_result"
    }
   ],
   "source": [
    "product_of_b"
   ]
  },
  {
   "cell_type": "markdown",
   "id": "1813f404",
   "metadata": {},
   "source": [
    "#### 6 - refactor the following to use numpy to find the list of squares\n",
    "squares_of_b = []\n",
    "for row in b:\n",
    "    for number in row:\n",
    "        squares_of_b.append(number**2)"
   ]
  },
  {
   "cell_type": "code",
   "execution_count": 58,
   "id": "2c34d0aa",
   "metadata": {},
   "outputs": [],
   "source": [
    "squares_of_b = np.square(b)"
   ]
  },
  {
   "cell_type": "code",
   "execution_count": 59,
   "id": "d88c4f67",
   "metadata": {},
   "outputs": [
    {
     "data": {
      "text/plain": [
       "array([[ 9, 16, 25],\n",
       "       [36, 49, 64]])"
      ]
     },
     "execution_count": 59,
     "metadata": {},
     "output_type": "execute_result"
    }
   ],
   "source": [
    "squares_of_b"
   ]
  },
  {
   "cell_type": "markdown",
   "id": "543df6ae",
   "metadata": {},
   "source": [
    "#### 7 - refactor using numpy to determine the odds_in_b\n",
    "odds_in_b = []\n",
    "for row in b:\n",
    "    for number in row:\n",
    "        if(number % 2 != 0):\n",
    "            odds_in_b.append(number)"
   ]
  },
  {
   "cell_type": "code",
   "execution_count": 60,
   "id": "b4e7f0a7",
   "metadata": {},
   "outputs": [],
   "source": [
    "b = np.array([ [3, 4, 5], [6, 7, 8] ])"
   ]
  },
  {
   "cell_type": "code",
   "execution_count": 61,
   "id": "84f49173",
   "metadata": {},
   "outputs": [],
   "source": [
    "odds_in_b = b[b % 2 != 0]"
   ]
  },
  {
   "cell_type": "code",
   "execution_count": 62,
   "id": "f3b6dc87",
   "metadata": {
    "scrolled": true
   },
   "outputs": [
    {
     "data": {
      "text/plain": [
       "array([3, 5, 7])"
      ]
     },
     "execution_count": 62,
     "metadata": {},
     "output_type": "execute_result"
    }
   ],
   "source": [
    "odds_in_b"
   ]
  },
  {
   "cell_type": "markdown",
   "id": "d8946881",
   "metadata": {},
   "source": [
    "#### 8 - refactor the following to use numpy to filter only the even numbers\n",
    "```\n",
    "evens_in_b = []\n",
    "for row in b:\n",
    "    for number in row:\n",
    "        if(number % 2 == 0):\n",
    "            evens_in_b.append(number)\n",
    "            ```\n"
   ]
  },
  {
   "cell_type": "code",
   "execution_count": 63,
   "id": "15a74bd4",
   "metadata": {},
   "outputs": [],
   "source": [
    "evens_in_b = b[b % 2 ==0]"
   ]
  },
  {
   "cell_type": "code",
   "execution_count": 64,
   "id": "15523a46",
   "metadata": {},
   "outputs": [
    {
     "data": {
      "text/plain": [
       "array([4, 6, 8])"
      ]
     },
     "execution_count": 64,
     "metadata": {},
     "output_type": "execute_result"
    }
   ],
   "source": [
    "evens_in_b"
   ]
  },
  {
   "cell_type": "markdown",
   "id": "44f788d9",
   "metadata": {},
   "source": [
    "#### 9 - print out the shape of the array b."
   ]
  },
  {
   "cell_type": "code",
   "execution_count": 65,
   "id": "37053e87",
   "metadata": {},
   "outputs": [
    {
     "data": {
      "text/plain": [
       "(2, 3)"
      ]
     },
     "execution_count": 65,
     "metadata": {},
     "output_type": "execute_result"
    }
   ],
   "source": [
    "np.shape(b)"
   ]
  },
  {
   "cell_type": "markdown",
   "id": "a280e765",
   "metadata": {},
   "source": [
    "#### 10 - transpose the array b."
   ]
  },
  {
   "cell_type": "code",
   "execution_count": 66,
   "id": "a80828e5",
   "metadata": {},
   "outputs": [],
   "source": [
    "transpose_b = np.transpose(b)"
   ]
  },
  {
   "cell_type": "code",
   "execution_count": 67,
   "id": "632397ae",
   "metadata": {},
   "outputs": [
    {
     "name": "stdout",
     "output_type": "stream",
     "text": [
      "[[3 6]\n",
      " [4 7]\n",
      " [5 8]]\n"
     ]
    }
   ],
   "source": [
    "print(transpose_b)"
   ]
  },
  {
   "cell_type": "markdown",
   "id": "faafec6c",
   "metadata": {},
   "source": [
    "#### 11 - reshape the array b to be a single list of 6 numbers. (1 x 6)"
   ]
  },
  {
   "cell_type": "code",
   "execution_count": 70,
   "id": "d152c8ae",
   "metadata": {},
   "outputs": [],
   "source": [
    "b = np.array([ [3, 4, 5], [6, 7, 8] ])\n",
    "\n",
    "reshape = b.reshape(1,6)"
   ]
  },
  {
   "cell_type": "code",
   "execution_count": 71,
   "id": "24a22771",
   "metadata": {},
   "outputs": [
    {
     "data": {
      "text/plain": [
       "array([[3, 4, 5, 6, 7, 8]])"
      ]
     },
     "execution_count": 71,
     "metadata": {},
     "output_type": "execute_result"
    }
   ],
   "source": [
    "reshape"
   ]
  },
  {
   "cell_type": "markdown",
   "id": "06fd087d",
   "metadata": {},
   "source": [
    "#### 12 - reshape the array b to be a list of 6 lists, each containing only 1 number (6 x 1)"
   ]
  },
  {
   "cell_type": "code",
   "execution_count": 72,
   "id": "c84847bc",
   "metadata": {},
   "outputs": [],
   "source": [
    "b = np.array([ [3, 4, 5], [6, 7, 8] ])\n",
    "\n",
    "reshape = b.reshape(6,1)"
   ]
  },
  {
   "cell_type": "code",
   "execution_count": 73,
   "id": "b0b3601f",
   "metadata": {},
   "outputs": [
    {
     "data": {
      "text/plain": [
       "array([[3],\n",
       "       [4],\n",
       "       [5],\n",
       "       [6],\n",
       "       [7],\n",
       "       [8]])"
      ]
     },
     "execution_count": 73,
     "metadata": {},
     "output_type": "execute_result"
    }
   ],
   "source": [
    "reshape"
   ]
  },
  {
   "cell_type": "markdown",
   "id": "b2911d4f",
   "metadata": {},
   "source": [
    "# 8c.\n",
    "\n",
    "### Setup 3\n",
    "c = [\n",
    "    [1, 2, 3],\n",
    "    [4, 5, 6],\n",
    "    [7, 8, 9]\n",
    "]\n",
    "\n",
    "\n",
    "## HINT, you'll first need to make sure that the \"c\" variable is a numpy array prior to using numpy array methods.\n",
    "### Exercise 1 - Find the min, max, sum, and product of c.\n",
    "### Exercise 2 - Determine the standard deviation of c.\n",
    "### Exercise 3 - Determine the variance of c.\n",
    "### Exercise 4 - Print out the shape of the array c\n",
    "### Exercise 5 - Transpose c and print out transposed result.\n",
    "### Exercise 6 - Get the dot product of the array c with c. \n",
    "### Exercise 7 - Write the code necessary to sum up the result of c times c transposed. Answer should be 261\n",
    "\n",
    "### Exercise 8 - Write the code necessary to determine the product of c times c transposed. Answer should be 131681894400.\n",
    "\n",
    "\n",
    "### Setup 4\n",
    "d = [\n",
    "    [90, 30, 45, 0, 120, 180],\n",
    "    [45, -90, -30, 270, 90, 0],\n",
    "    [60, 45, -45, 90, -45, 180]\n",
    "]\n"
   ]
  },
  {
   "cell_type": "code",
   "execution_count": null,
   "id": "d8e01976",
   "metadata": {},
   "outputs": [],
   "source": []
  },
  {
   "cell_type": "code",
   "execution_count": null,
   "id": "3197de93",
   "metadata": {},
   "outputs": [],
   "source": []
  },
  {
   "cell_type": "code",
   "execution_count": null,
   "id": "22aaeb5d",
   "metadata": {},
   "outputs": [],
   "source": []
  },
  {
   "cell_type": "code",
   "execution_count": null,
   "id": "040c5c24",
   "metadata": {},
   "outputs": [],
   "source": []
  },
  {
   "cell_type": "code",
   "execution_count": null,
   "id": "75ae4ac3",
   "metadata": {},
   "outputs": [],
   "source": []
  },
  {
   "cell_type": "code",
   "execution_count": null,
   "id": "f113740d",
   "metadata": {},
   "outputs": [],
   "source": []
  },
  {
   "cell_type": "code",
   "execution_count": null,
   "id": "3871f1b3",
   "metadata": {},
   "outputs": [],
   "source": []
  },
  {
   "cell_type": "code",
   "execution_count": null,
   "id": "00065653",
   "metadata": {},
   "outputs": [],
   "source": []
  },
  {
   "cell_type": "code",
   "execution_count": null,
   "id": "59808a70",
   "metadata": {},
   "outputs": [],
   "source": []
  },
  {
   "cell_type": "code",
   "execution_count": null,
   "id": "b49fe6ed",
   "metadata": {},
   "outputs": [],
   "source": []
  },
  {
   "cell_type": "code",
   "execution_count": null,
   "id": "c19d1e9f",
   "metadata": {},
   "outputs": [],
   "source": []
  },
  {
   "cell_type": "code",
   "execution_count": null,
   "id": "0dd851f9",
   "metadata": {},
   "outputs": [],
   "source": []
  },
  {
   "cell_type": "code",
   "execution_count": null,
   "id": "fefc4152",
   "metadata": {},
   "outputs": [],
   "source": []
  },
  {
   "cell_type": "markdown",
   "id": "d21986b5",
   "metadata": {},
   "source": [
    "# 8d.\n",
    "### Exercise 1 - Find the sine of all the numbers in d\n",
    "### Exercise 2 - Find the cosine of all the numbers in d\n",
    "### Exercise 3 - Find the tangent of all the numbers in d\n",
    "### Exercise 4 - Find all the negative numbers in d\n",
    "### Exercise 5 - Find all the positive numbers in d\n",
    "### Exercise 6 - Return an array of only the unique numbers in d.\n",
    "### Exercise 7 - Determine how many unique numbers there are in d.\n",
    "### Exercise 8 - Print out the shape of d.\n",
    "### Exercise 9 - Transpose and then print out the shape of d.\n",
    "### Exercise 10 - Reshape d into an array of 9 x 2"
   ]
  },
  {
   "cell_type": "code",
   "execution_count": null,
   "id": "40a797b1",
   "metadata": {},
   "outputs": [],
   "source": []
  },
  {
   "cell_type": "code",
   "execution_count": null,
   "id": "3615aa41",
   "metadata": {},
   "outputs": [],
   "source": []
  },
  {
   "cell_type": "code",
   "execution_count": null,
   "id": "0a653b5e",
   "metadata": {},
   "outputs": [],
   "source": []
  },
  {
   "cell_type": "code",
   "execution_count": null,
   "id": "99aeda5c",
   "metadata": {},
   "outputs": [],
   "source": []
  },
  {
   "cell_type": "code",
   "execution_count": null,
   "id": "719157f0",
   "metadata": {},
   "outputs": [],
   "source": []
  },
  {
   "cell_type": "code",
   "execution_count": null,
   "id": "ade82f28",
   "metadata": {},
   "outputs": [],
   "source": []
  },
  {
   "cell_type": "code",
   "execution_count": null,
   "id": "ace35083",
   "metadata": {},
   "outputs": [],
   "source": []
  },
  {
   "cell_type": "code",
   "execution_count": null,
   "id": "38d8fe3f",
   "metadata": {},
   "outputs": [],
   "source": []
  },
  {
   "cell_type": "code",
   "execution_count": null,
   "id": "36d8bd88",
   "metadata": {},
   "outputs": [],
   "source": []
  },
  {
   "cell_type": "code",
   "execution_count": null,
   "id": "20a45b2c",
   "metadata": {},
   "outputs": [],
   "source": []
  },
  {
   "cell_type": "code",
   "execution_count": null,
   "id": "c052b24b",
   "metadata": {},
   "outputs": [],
   "source": []
  },
  {
   "cell_type": "code",
   "execution_count": null,
   "id": "9ecd7b1e",
   "metadata": {},
   "outputs": [],
   "source": []
  },
  {
   "cell_type": "code",
   "execution_count": null,
   "id": "2c826aad",
   "metadata": {},
   "outputs": [],
   "source": []
  },
  {
   "cell_type": "code",
   "execution_count": null,
   "id": "67b9d506",
   "metadata": {},
   "outputs": [],
   "source": []
  },
  {
   "cell_type": "code",
   "execution_count": null,
   "id": "a45463ff",
   "metadata": {},
   "outputs": [],
   "source": []
  }
 ],
 "metadata": {
  "kernelspec": {
   "display_name": "Python 3 (ipykernel)",
   "language": "python",
   "name": "python3"
  },
  "language_info": {
   "codemirror_mode": {
    "name": "ipython",
    "version": 3
   },
   "file_extension": ".py",
   "mimetype": "text/x-python",
   "name": "python",
   "nbconvert_exporter": "python",
   "pygments_lexer": "ipython3",
   "version": "3.10.9"
  }
 },
 "nbformat": 4,
 "nbformat_minor": 5
}
