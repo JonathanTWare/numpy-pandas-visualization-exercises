{
 "cells": [
  {
   "cell_type": "markdown",
   "id": "19f357fd",
   "metadata": {},
   "source": [
    "### Use pandas to create a Series named fruits from the following list:\n",
    "\n",
    "[\"kiwi\", \"mango\", \"strawberry\", \"pineapple\", \"gala apple\", \"honeycrisp apple\", \"tomato\", \"watermelon\", \"honeydew\", \"kiwi\", \"kiwi\", \"kiwi\", \"mango\", \"blueberry\", \"blackberry\", \"gooseberry\", \"papaya\"]\n",
    "\n"
   ]
  },
  {
   "cell_type": "markdown",
   "id": "488b1b07",
   "metadata": {},
   "source": [
    "### 1.Determine the number of elements in fruits."
   ]
  },
  {
   "cell_type": "code",
   "execution_count": 1,
   "id": "10f32e2d",
   "metadata": {},
   "outputs": [],
   "source": [
    "import pandas as pd\n",
    "import numpy as np\n",
    "from pydataset import data\n",
    "\n",
    "\n"
   ]
  },
  {
   "cell_type": "code",
   "execution_count": 2,
   "id": "0cb8c1b4",
   "metadata": {},
   "outputs": [],
   "source": [
    "my_list = [\"kiwi\", \"mango\", \"strawberry\", \"pineapple\", \"gala apple\", \"honeycrisp apple\", \"tomato\", \"watermelon\", \"honeydew\", \"kiwi\", \"kiwi\", \"kiwi\", \"mango\", \"blueberry\", \"blackberry\", \"gooseberry\", \"papaya\"]"
   ]
  },
  {
   "cell_type": "code",
   "execution_count": 3,
   "id": "ca236dc5",
   "metadata": {},
   "outputs": [],
   "source": [
    "my_series = pd.Series(my_list)"
   ]
  },
  {
   "cell_type": "code",
   "execution_count": 4,
   "id": "8957f0a5",
   "metadata": {
    "scrolled": true
   },
   "outputs": [
    {
     "data": {
      "text/plain": [
       "0                 kiwi\n",
       "1                mango\n",
       "2           strawberry\n",
       "3            pineapple\n",
       "4           gala apple\n",
       "5     honeycrisp apple\n",
       "6               tomato\n",
       "7           watermelon\n",
       "8             honeydew\n",
       "9                 kiwi\n",
       "10                kiwi\n",
       "11                kiwi\n",
       "12               mango\n",
       "13           blueberry\n",
       "14          blackberry\n",
       "15          gooseberry\n",
       "16              papaya\n",
       "dtype: object"
      ]
     },
     "execution_count": 4,
     "metadata": {},
     "output_type": "execute_result"
    }
   ],
   "source": [
    "my_series\n"
   ]
  },
  {
   "cell_type": "code",
   "execution_count": 5,
   "id": "894e2c6c",
   "metadata": {},
   "outputs": [
    {
     "data": {
      "text/plain": [
       "17"
      ]
     },
     "execution_count": 5,
     "metadata": {},
     "output_type": "execute_result"
    }
   ],
   "source": [
    "my_series.size"
   ]
  },
  {
   "cell_type": "markdown",
   "id": "5ba3450c",
   "metadata": {},
   "source": [
    "### 2.Output only the index from fruits."
   ]
  },
  {
   "cell_type": "code",
   "execution_count": 6,
   "id": "c83d1454",
   "metadata": {},
   "outputs": [],
   "source": [
    "index = my_series.index"
   ]
  },
  {
   "cell_type": "code",
   "execution_count": 7,
   "id": "3389ddef",
   "metadata": {},
   "outputs": [
    {
     "data": {
      "text/plain": [
       "[0, 1, 2, 3, 4, 5, 6, 7, 8, 9, 10, 11, 12, 13, 14, 15, 16]"
      ]
     },
     "execution_count": 7,
     "metadata": {},
     "output_type": "execute_result"
    }
   ],
   "source": [
    "list(index)"
   ]
  },
  {
   "cell_type": "markdown",
   "id": "f53ee077",
   "metadata": {},
   "source": [
    "### 3.Output only the values from fruits."
   ]
  },
  {
   "cell_type": "code",
   "execution_count": 8,
   "id": "bfe9d3f4",
   "metadata": {},
   "outputs": [],
   "source": [
    "valuesonly = my_series.values"
   ]
  },
  {
   "cell_type": "code",
   "execution_count": 9,
   "id": "c4abd3cf",
   "metadata": {
    "scrolled": false
   },
   "outputs": [
    {
     "data": {
      "text/plain": [
       "['kiwi',\n",
       " 'mango',\n",
       " 'strawberry',\n",
       " 'pineapple',\n",
       " 'gala apple',\n",
       " 'honeycrisp apple',\n",
       " 'tomato',\n",
       " 'watermelon',\n",
       " 'honeydew',\n",
       " 'kiwi',\n",
       " 'kiwi',\n",
       " 'kiwi',\n",
       " 'mango',\n",
       " 'blueberry',\n",
       " 'blackberry',\n",
       " 'gooseberry',\n",
       " 'papaya']"
      ]
     },
     "execution_count": 9,
     "metadata": {},
     "output_type": "execute_result"
    }
   ],
   "source": [
    "list(valuesonly)"
   ]
  },
  {
   "cell_type": "markdown",
   "id": "e17a55e2",
   "metadata": {},
   "source": [
    "### 4.Confirm the data type of the values in fruits."
   ]
  },
  {
   "cell_type": "code",
   "execution_count": 10,
   "id": "98479379",
   "metadata": {},
   "outputs": [],
   "source": [
    "datatype = valuesonly.dtype"
   ]
  },
  {
   "cell_type": "code",
   "execution_count": 11,
   "id": "02f0e5b0",
   "metadata": {},
   "outputs": [
    {
     "data": {
      "text/plain": [
       "dtype('O')"
      ]
     },
     "execution_count": 11,
     "metadata": {},
     "output_type": "execute_result"
    }
   ],
   "source": [
    "datatype"
   ]
  },
  {
   "cell_type": "markdown",
   "id": "4a8f2cf5",
   "metadata": {},
   "source": [
    "### 5.Output only the first five values from fruits. Output the last three values. Output two random values from fruits."
   ]
  },
  {
   "cell_type": "code",
   "execution_count": 12,
   "id": "185f5eee",
   "metadata": {},
   "outputs": [
    {
     "data": {
      "text/plain": [
       "0          kiwi\n",
       "1         mango\n",
       "2    strawberry\n",
       "3     pineapple\n",
       "4    gala apple\n",
       "dtype: object"
      ]
     },
     "execution_count": 12,
     "metadata": {},
     "output_type": "execute_result"
    }
   ],
   "source": [
    "my_series.head(5)"
   ]
  },
  {
   "cell_type": "code",
   "execution_count": 13,
   "id": "d603ccb3",
   "metadata": {},
   "outputs": [
    {
     "data": {
      "text/plain": [
       "14    blackberry\n",
       "15    gooseberry\n",
       "16        papaya\n",
       "dtype: object"
      ]
     },
     "execution_count": 13,
     "metadata": {},
     "output_type": "execute_result"
    }
   ],
   "source": [
    "my_series.tail(3)"
   ]
  },
  {
   "cell_type": "code",
   "execution_count": 14,
   "id": "70685b57",
   "metadata": {},
   "outputs": [
    {
     "data": {
      "text/plain": [
       "0         kiwi\n",
       "3    pineapple\n",
       "dtype: object"
      ]
     },
     "execution_count": 14,
     "metadata": {},
     "output_type": "execute_result"
    }
   ],
   "source": [
    "my_series.sample(2)"
   ]
  },
  {
   "cell_type": "markdown",
   "id": "3833fc54",
   "metadata": {},
   "source": [
    "### 6.Run the .describe() on fruits to see what information it returns when called on a Series with string values."
   ]
  },
  {
   "cell_type": "code",
   "execution_count": 15,
   "id": "93f5d340",
   "metadata": {},
   "outputs": [
    {
     "data": {
      "text/plain": [
       "count       17\n",
       "unique      13\n",
       "top       kiwi\n",
       "freq         4\n",
       "dtype: object"
      ]
     },
     "execution_count": 15,
     "metadata": {},
     "output_type": "execute_result"
    }
   ],
   "source": [
    "my_series.describe()"
   ]
  },
  {
   "cell_type": "markdown",
   "id": "8fbba08b",
   "metadata": {},
   "source": [
    "### 7.Run the code necessary to produce only the unique string values from fruits."
   ]
  },
  {
   "cell_type": "code",
   "execution_count": 16,
   "id": "1a4c1a7a",
   "metadata": {},
   "outputs": [],
   "source": [
    "uniquestring = my_series.unique()"
   ]
  },
  {
   "cell_type": "code",
   "execution_count": 17,
   "id": "7f9ebbbd",
   "metadata": {},
   "outputs": [
    {
     "data": {
      "text/plain": [
       "['kiwi',\n",
       " 'mango',\n",
       " 'strawberry',\n",
       " 'pineapple',\n",
       " 'gala apple',\n",
       " 'honeycrisp apple',\n",
       " 'tomato',\n",
       " 'watermelon',\n",
       " 'honeydew',\n",
       " 'blueberry',\n",
       " 'blackberry',\n",
       " 'gooseberry',\n",
       " 'papaya']"
      ]
     },
     "execution_count": 17,
     "metadata": {},
     "output_type": "execute_result"
    }
   ],
   "source": [
    "list(uniquestring)"
   ]
  },
  {
   "cell_type": "markdown",
   "id": "f6feafae",
   "metadata": {},
   "source": [
    "### 8.Determine how many times each unique string value occurs in fruits."
   ]
  },
  {
   "cell_type": "code",
   "execution_count": 18,
   "id": "7dbd4735",
   "metadata": {},
   "outputs": [],
   "source": [
    "fruitcount = my_series.value_counts()"
   ]
  },
  {
   "cell_type": "code",
   "execution_count": 19,
   "id": "492211c9",
   "metadata": {},
   "outputs": [
    {
     "data": {
      "text/plain": [
       "kiwi                4\n",
       "mango               2\n",
       "strawberry          1\n",
       "pineapple           1\n",
       "gala apple          1\n",
       "honeycrisp apple    1\n",
       "tomato              1\n",
       "watermelon          1\n",
       "honeydew            1\n",
       "blueberry           1\n",
       "blackberry          1\n",
       "gooseberry          1\n",
       "papaya              1\n",
       "dtype: int64"
      ]
     },
     "execution_count": 19,
     "metadata": {},
     "output_type": "execute_result"
    }
   ],
   "source": [
    "fruitcount"
   ]
  },
  {
   "cell_type": "markdown",
   "id": "259b563d",
   "metadata": {},
   "source": [
    "### 9.Determine the string value that occurs most frequently in fruits."
   ]
  },
  {
   "cell_type": "code",
   "execution_count": 20,
   "id": "6ed3d68f",
   "metadata": {},
   "outputs": [],
   "source": [
    "frequent = my_series.value_counts().index[0]"
   ]
  },
  {
   "cell_type": "code",
   "execution_count": 21,
   "id": "4d14ee98",
   "metadata": {},
   "outputs": [
    {
     "data": {
      "text/plain": [
       "'kiwi'"
      ]
     },
     "execution_count": 21,
     "metadata": {},
     "output_type": "execute_result"
    }
   ],
   "source": [
    "frequent"
   ]
  },
  {
   "cell_type": "markdown",
   "id": "5f5fecde",
   "metadata": {},
   "source": [
    "### 10.Determine the string value that occurs least frequently in fruits."
   ]
  },
  {
   "cell_type": "code",
   "execution_count": 22,
   "id": "2c351224",
   "metadata": {},
   "outputs": [],
   "source": [
    "least = my_series.value_counts().index[-1]"
   ]
  },
  {
   "cell_type": "code",
   "execution_count": 23,
   "id": "0ff85e38",
   "metadata": {
    "scrolled": true
   },
   "outputs": [
    {
     "data": {
      "text/plain": [
       "'papaya'"
      ]
     },
     "execution_count": 23,
     "metadata": {},
     "output_type": "execute_result"
    }
   ],
   "source": [
    "least"
   ]
  },
  {
   "cell_type": "markdown",
   "id": "2b5dc80a",
   "metadata": {},
   "source": [
    "# or"
   ]
  },
  {
   "cell_type": "code",
   "execution_count": 24,
   "id": "2da079a8",
   "metadata": {},
   "outputs": [],
   "source": [
    "least = my_series.value_counts()\n",
    "all_least = least[least == least.min()]\n"
   ]
  },
  {
   "cell_type": "code",
   "execution_count": 25,
   "id": "6f45d217",
   "metadata": {
    "scrolled": false
   },
   "outputs": [
    {
     "data": {
      "text/plain": [
       "strawberry          1\n",
       "pineapple           1\n",
       "gala apple          1\n",
       "honeycrisp apple    1\n",
       "tomato              1\n",
       "watermelon          1\n",
       "honeydew            1\n",
       "blueberry           1\n",
       "blackberry          1\n",
       "gooseberry          1\n",
       "papaya              1\n",
       "dtype: int64"
      ]
     },
     "execution_count": 25,
     "metadata": {},
     "output_type": "execute_result"
    }
   ],
   "source": [
    "all_least"
   ]
  },
  {
   "cell_type": "markdown",
   "id": "c83e1c60",
   "metadata": {},
   "source": [
    "# OR BETTER WAY"
   ]
  },
  {
   "cell_type": "code",
   "execution_count": 26,
   "id": "c446a003",
   "metadata": {},
   "outputs": [],
   "source": [
    "order_fruits = fruitcount.nsmallest(n=1, keep = 'all')"
   ]
  },
  {
   "cell_type": "code",
   "execution_count": 27,
   "id": "a8ffd2ec",
   "metadata": {
    "scrolled": true
   },
   "outputs": [
    {
     "data": {
      "text/plain": [
       "strawberry          1\n",
       "pineapple           1\n",
       "gala apple          1\n",
       "honeycrisp apple    1\n",
       "tomato              1\n",
       "watermelon          1\n",
       "honeydew            1\n",
       "blueberry           1\n",
       "blackberry          1\n",
       "gooseberry          1\n",
       "papaya              1\n",
       "dtype: int64"
      ]
     },
     "execution_count": 27,
     "metadata": {},
     "output_type": "execute_result"
    }
   ],
   "source": [
    "order_fruits"
   ]
  },
  {
   "cell_type": "markdown",
   "id": "4772ea9a",
   "metadata": {},
   "source": [
    "# Exercise Pt. II\n",
    "\n",
    "### 1.Capitalize all the string values in fruits.\n",
    "### "
   ]
  },
  {
   "cell_type": "code",
   "execution_count": 28,
   "id": "8bfe82fe",
   "metadata": {},
   "outputs": [
    {
     "data": {
      "text/plain": [
       "0                 KIWI\n",
       "1                MANGO\n",
       "2           STRAWBERRY\n",
       "3            PINEAPPLE\n",
       "4           GALA APPLE\n",
       "5     HONEYCRISP APPLE\n",
       "6               TOMATO\n",
       "7           WATERMELON\n",
       "8             HONEYDEW\n",
       "9                 KIWI\n",
       "10                KIWI\n",
       "11                KIWI\n",
       "12               MANGO\n",
       "13           BLUEBERRY\n",
       "14          BLACKBERRY\n",
       "15          GOOSEBERRY\n",
       "16              PAPAYA\n",
       "dtype: object"
      ]
     },
     "execution_count": 28,
     "metadata": {},
     "output_type": "execute_result"
    }
   ],
   "source": [
    "my_series.str.upper()"
   ]
  },
  {
   "cell_type": "markdown",
   "id": "842d9bba",
   "metadata": {},
   "source": [
    "### 2.Count the letter \"a\" in all the string values (use string vectorization).\n",
    "### "
   ]
  },
  {
   "cell_type": "code",
   "execution_count": 29,
   "id": "5173ffe5",
   "metadata": {},
   "outputs": [
    {
     "data": {
      "text/plain": [
       "0     0\n",
       "1     1\n",
       "2     1\n",
       "3     1\n",
       "4     3\n",
       "5     1\n",
       "6     1\n",
       "7     1\n",
       "8     0\n",
       "9     0\n",
       "10    0\n",
       "11    0\n",
       "12    1\n",
       "13    0\n",
       "14    1\n",
       "15    0\n",
       "16    3\n",
       "dtype: int64"
      ]
     },
     "execution_count": 29,
     "metadata": {},
     "output_type": "execute_result"
    }
   ],
   "source": [
    "my_series.str.count('a')"
   ]
  },
  {
   "cell_type": "markdown",
   "id": "22cae9ff",
   "metadata": {},
   "source": [
    "### 3.Output the number of vowels in each and every string value.\n",
    "###"
   ]
  },
  {
   "cell_type": "code",
   "execution_count": 30,
   "id": "3681510f",
   "metadata": {},
   "outputs": [
    {
     "data": {
      "text/plain": [
       "0     2\n",
       "1     2\n",
       "2     2\n",
       "3     4\n",
       "4     4\n",
       "5     5\n",
       "6     3\n",
       "7     4\n",
       "8     3\n",
       "9     2\n",
       "10    2\n",
       "11    2\n",
       "12    2\n",
       "13    3\n",
       "14    2\n",
       "15    4\n",
       "16    3\n",
       "dtype: int64"
      ]
     },
     "execution_count": 30,
     "metadata": {},
     "output_type": "execute_result"
    }
   ],
   "source": [
    "my_series.str.count('[aeiou]')"
   ]
  },
  {
   "cell_type": "markdown",
   "id": "bdb089c4",
   "metadata": {},
   "source": [
    " \n",
    "### 4.Write the code to get the longest string value from fruits.\n",
    "### "
   ]
  },
  {
   "cell_type": "code",
   "execution_count": 33,
   "id": "c3decdf2",
   "metadata": {},
   "outputs": [
    {
     "data": {
      "text/plain": [
       "'honeycrisp apple'"
      ]
     },
     "execution_count": 33,
     "metadata": {},
     "output_type": "execute_result"
    }
   ],
   "source": [
    "longfruit = sorted(my_series, key = len)\n",
    "\n",
    "longfruit[-1]\n",
    "\n",
    "\n",
    "\n"
   ]
  },
  {
   "cell_type": "markdown",
   "id": "0e3a609d",
   "metadata": {},
   "source": [
    "### 5.Write the code to get the string values with 5 or more letters in the name.\n",
    "### "
   ]
  },
  {
   "cell_type": "code",
   "execution_count": 41,
   "id": "db0b2d43",
   "metadata": {
    "scrolled": true
   },
   "outputs": [
    {
     "data": {
      "text/plain": [
       "1                mango\n",
       "2           strawberry\n",
       "3            pineapple\n",
       "4           gala apple\n",
       "5     honeycrisp apple\n",
       "6               tomato\n",
       "7           watermelon\n",
       "8             honeydew\n",
       "12               mango\n",
       "13           blueberry\n",
       "14          blackberry\n",
       "15          gooseberry\n",
       "16              papaya\n",
       "dtype: object"
      ]
     },
     "execution_count": 41,
     "metadata": {},
     "output_type": "execute_result"
    }
   ],
   "source": [
    "count_of_letters = my_series.str.count('[abcdefghijklmnopqrstuvwxyz]')\n",
    "long_names = my_series[count_of_letters >= 5]\n",
    "long_names\n"
   ]
  },
  {
   "cell_type": "markdown",
   "id": "3158c6e7",
   "metadata": {},
   "source": [
    "### 6.Find the fruit(s) containing the letter \"o\" two or more times.\n",
    "### "
   ]
  },
  {
   "cell_type": "code",
   "execution_count": 45,
   "id": "3d4e69aa",
   "metadata": {},
   "outputs": [
    {
     "data": {
      "text/plain": [
       "6         tomato\n",
       "15    gooseberry\n",
       "dtype: object"
      ]
     },
     "execution_count": 45,
     "metadata": {},
     "output_type": "execute_result"
    }
   ],
   "source": [
    "count_of_letters = my_series.str.count('o')\n",
    "o_names = my_series[count_of_letters >= 2]\n",
    "o_names\n"
   ]
  },
  {
   "cell_type": "markdown",
   "id": "7bd58337",
   "metadata": {},
   "source": [
    "### 7.Write the code to get only the string values containing the substring \"berry\".\n",
    "### "
   ]
  },
  {
   "cell_type": "code",
   "execution_count": 50,
   "id": "f0549257",
   "metadata": {},
   "outputs": [
    {
     "data": {
      "text/plain": [
       "2     strawberry\n",
       "13     blueberry\n",
       "14    blackberry\n",
       "15    gooseberry\n",
       "dtype: object"
      ]
     },
     "execution_count": 50,
     "metadata": {},
     "output_type": "execute_result"
    }
   ],
   "source": [
    "berry_names = my_series[my_series.str.endswith('berry')]\n",
    "berry_names"
   ]
  },
  {
   "cell_type": "markdown",
   "id": "eb57f564",
   "metadata": {},
   "source": [
    "### 8.Write the code to get only the string values containing the substring \"apple\".\n",
    "###"
   ]
  },
  {
   "cell_type": "code",
   "execution_count": 51,
   "id": "ccf688bb",
   "metadata": {},
   "outputs": [
    {
     "data": {
      "text/plain": [
       "3           pineapple\n",
       "4          gala apple\n",
       "5    honeycrisp apple\n",
       "dtype: object"
      ]
     },
     "execution_count": 51,
     "metadata": {},
     "output_type": "execute_result"
    }
   ],
   "source": [
    "apple_names = my_series[my_series.str.contains('apple')]\n",
    "apple_names"
   ]
  },
  {
   "cell_type": "markdown",
   "id": "caf4fc1d",
   "metadata": {},
   "source": [
    " \n",
    "### 9.Which string value contains the most vowels?"
   ]
  },
  {
   "cell_type": "code",
   "execution_count": 64,
   "id": "7f2bb944",
   "metadata": {},
   "outputs": [
    {
     "data": {
      "text/plain": [
       "'honeycrisp apple'"
      ]
     },
     "execution_count": 64,
     "metadata": {},
     "output_type": "execute_result"
    }
   ],
   "source": [
    "apple_names = my_series[my_series.str.count('[aeiou]')]\n",
    "\n",
    "most_vowels = sorted(apple_names, key = len)\n",
    "\n",
    "most_vowels[-1]"
   ]
  }
 ],
 "metadata": {
  "kernelspec": {
   "display_name": "Python 3 (ipykernel)",
   "language": "python",
   "name": "python3"
  },
  "language_info": {
   "codemirror_mode": {
    "name": "ipython",
    "version": 3
   },
   "file_extension": ".py",
   "mimetype": "text/x-python",
   "name": "python",
   "nbconvert_exporter": "python",
   "pygments_lexer": "ipython3",
   "version": "3.10.9"
  }
 },
 "nbformat": 4,
 "nbformat_minor": 5
}
