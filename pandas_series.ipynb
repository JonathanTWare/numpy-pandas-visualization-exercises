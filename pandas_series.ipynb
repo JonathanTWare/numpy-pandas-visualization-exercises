{
 "cells": [
  {
   "cell_type": "markdown",
   "id": "19f357fd",
   "metadata": {},
   "source": [
    "### Use pandas to create a Series named fruits from the following list:\n",
    "\n",
    "[\"kiwi\", \"mango\", \"strawberry\", \"pineapple\", \"gala apple\", \"honeycrisp apple\", \"tomato\", \"watermelon\", \"honeydew\", \"kiwi\", \"kiwi\", \"kiwi\", \"mango\", \"blueberry\", \"blackberry\", \"gooseberry\", \"papaya\"]\n",
    "\n"
   ]
  },
  {
   "cell_type": "markdown",
   "id": "488b1b07",
   "metadata": {},
   "source": [
    "### 1.Determine the number of elements in fruits."
   ]
  },
  {
   "cell_type": "code",
   "execution_count": 1,
   "id": "10f32e2d",
   "metadata": {},
   "outputs": [],
   "source": [
    "import pandas as pd\n",
    "import numpy as np\n",
    "from pydataset import data\n",
    "\n",
    "\n"
   ]
  },
  {
   "cell_type": "code",
   "execution_count": 2,
   "id": "0cb8c1b4",
   "metadata": {},
   "outputs": [],
   "source": [
    "my_list = [\"kiwi\", \"mango\", \"strawberry\", \"pineapple\", \"gala apple\", \"honeycrisp apple\", \"tomato\", \"watermelon\", \"honeydew\", \"kiwi\", \"kiwi\", \"kiwi\", \"mango\", \"blueberry\", \"blackberry\", \"gooseberry\", \"papaya\"]"
   ]
  },
  {
   "cell_type": "code",
   "execution_count": 3,
   "id": "ca236dc5",
   "metadata": {},
   "outputs": [],
   "source": [
    "my_series = pd.Series(my_list)"
   ]
  },
  {
   "cell_type": "code",
   "execution_count": 4,
   "id": "8957f0a5",
   "metadata": {
    "scrolled": true
   },
   "outputs": [
    {
     "data": {
      "text/plain": [
       "0                 kiwi\n",
       "1                mango\n",
       "2           strawberry\n",
       "3            pineapple\n",
       "4           gala apple\n",
       "5     honeycrisp apple\n",
       "6               tomato\n",
       "7           watermelon\n",
       "8             honeydew\n",
       "9                 kiwi\n",
       "10                kiwi\n",
       "11                kiwi\n",
       "12               mango\n",
       "13           blueberry\n",
       "14          blackberry\n",
       "15          gooseberry\n",
       "16              papaya\n",
       "dtype: object"
      ]
     },
     "execution_count": 4,
     "metadata": {},
     "output_type": "execute_result"
    }
   ],
   "source": [
    "my_series\n"
   ]
  },
  {
   "cell_type": "code",
   "execution_count": 5,
   "id": "894e2c6c",
   "metadata": {},
   "outputs": [
    {
     "data": {
      "text/plain": [
       "17"
      ]
     },
     "execution_count": 5,
     "metadata": {},
     "output_type": "execute_result"
    }
   ],
   "source": [
    "my_series.size"
   ]
  },
  {
   "cell_type": "markdown",
   "id": "5ba3450c",
   "metadata": {},
   "source": [
    "### 2.Output only the index from fruits."
   ]
  },
  {
   "cell_type": "code",
   "execution_count": 6,
   "id": "c83d1454",
   "metadata": {},
   "outputs": [],
   "source": [
    "index = my_series.index"
   ]
  },
  {
   "cell_type": "code",
   "execution_count": 7,
   "id": "3389ddef",
   "metadata": {},
   "outputs": [
    {
     "data": {
      "text/plain": [
       "[0, 1, 2, 3, 4, 5, 6, 7, 8, 9, 10, 11, 12, 13, 14, 15, 16]"
      ]
     },
     "execution_count": 7,
     "metadata": {},
     "output_type": "execute_result"
    }
   ],
   "source": [
    "list(index)"
   ]
  },
  {
   "cell_type": "markdown",
   "id": "f53ee077",
   "metadata": {},
   "source": [
    "### 3.Output only the values from fruits."
   ]
  },
  {
   "cell_type": "code",
   "execution_count": 8,
   "id": "bfe9d3f4",
   "metadata": {},
   "outputs": [],
   "source": [
    "valuesonly = my_series.values"
   ]
  },
  {
   "cell_type": "code",
   "execution_count": 9,
   "id": "c4abd3cf",
   "metadata": {
    "scrolled": false
   },
   "outputs": [
    {
     "data": {
      "text/plain": [
       "['kiwi',\n",
       " 'mango',\n",
       " 'strawberry',\n",
       " 'pineapple',\n",
       " 'gala apple',\n",
       " 'honeycrisp apple',\n",
       " 'tomato',\n",
       " 'watermelon',\n",
       " 'honeydew',\n",
       " 'kiwi',\n",
       " 'kiwi',\n",
       " 'kiwi',\n",
       " 'mango',\n",
       " 'blueberry',\n",
       " 'blackberry',\n",
       " 'gooseberry',\n",
       " 'papaya']"
      ]
     },
     "execution_count": 9,
     "metadata": {},
     "output_type": "execute_result"
    }
   ],
   "source": [
    "list(valuesonly)"
   ]
  },
  {
   "cell_type": "markdown",
   "id": "e17a55e2",
   "metadata": {},
   "source": [
    "### 4.Confirm the data type of the values in fruits."
   ]
  },
  {
   "cell_type": "code",
   "execution_count": 10,
   "id": "98479379",
   "metadata": {},
   "outputs": [],
   "source": [
    "datatype = valuesonly.dtype"
   ]
  },
  {
   "cell_type": "code",
   "execution_count": 11,
   "id": "02f0e5b0",
   "metadata": {},
   "outputs": [
    {
     "data": {
      "text/plain": [
       "dtype('O')"
      ]
     },
     "execution_count": 11,
     "metadata": {},
     "output_type": "execute_result"
    }
   ],
   "source": [
    "datatype"
   ]
  },
  {
   "cell_type": "markdown",
   "id": "4a8f2cf5",
   "metadata": {},
   "source": [
    "### 5.Output only the first five values from fruits. Output the last three values. Output two random values from fruits."
   ]
  },
  {
   "cell_type": "code",
   "execution_count": 12,
   "id": "185f5eee",
   "metadata": {},
   "outputs": [
    {
     "data": {
      "text/plain": [
       "0          kiwi\n",
       "1         mango\n",
       "2    strawberry\n",
       "3     pineapple\n",
       "4    gala apple\n",
       "dtype: object"
      ]
     },
     "execution_count": 12,
     "metadata": {},
     "output_type": "execute_result"
    }
   ],
   "source": [
    "my_series.head(5)"
   ]
  },
  {
   "cell_type": "code",
   "execution_count": 13,
   "id": "d603ccb3",
   "metadata": {},
   "outputs": [
    {
     "data": {
      "text/plain": [
       "14    blackberry\n",
       "15    gooseberry\n",
       "16        papaya\n",
       "dtype: object"
      ]
     },
     "execution_count": 13,
     "metadata": {},
     "output_type": "execute_result"
    }
   ],
   "source": [
    "my_series.tail(3)"
   ]
  },
  {
   "cell_type": "code",
   "execution_count": 14,
   "id": "70685b57",
   "metadata": {},
   "outputs": [
    {
     "data": {
      "text/plain": [
       "5    honeycrisp apple\n",
       "9                kiwi\n",
       "dtype: object"
      ]
     },
     "execution_count": 14,
     "metadata": {},
     "output_type": "execute_result"
    }
   ],
   "source": [
    "my_series.sample(2)"
   ]
  },
  {
   "cell_type": "markdown",
   "id": "3833fc54",
   "metadata": {},
   "source": [
    "### 6.Run the .describe() on fruits to see what information it returns when called on a Series with string values."
   ]
  },
  {
   "cell_type": "code",
   "execution_count": 15,
   "id": "93f5d340",
   "metadata": {},
   "outputs": [
    {
     "data": {
      "text/plain": [
       "count       17\n",
       "unique      13\n",
       "top       kiwi\n",
       "freq         4\n",
       "dtype: object"
      ]
     },
     "execution_count": 15,
     "metadata": {},
     "output_type": "execute_result"
    }
   ],
   "source": [
    "my_series.describe()"
   ]
  },
  {
   "cell_type": "markdown",
   "id": "8fbba08b",
   "metadata": {},
   "source": [
    "### 7.Run the code necessary to produce only the unique string values from fruits."
   ]
  },
  {
   "cell_type": "code",
   "execution_count": 16,
   "id": "1a4c1a7a",
   "metadata": {},
   "outputs": [],
   "source": [
    "uniquestring = my_series.unique()"
   ]
  },
  {
   "cell_type": "code",
   "execution_count": 17,
   "id": "7f9ebbbd",
   "metadata": {},
   "outputs": [
    {
     "data": {
      "text/plain": [
       "['kiwi',\n",
       " 'mango',\n",
       " 'strawberry',\n",
       " 'pineapple',\n",
       " 'gala apple',\n",
       " 'honeycrisp apple',\n",
       " 'tomato',\n",
       " 'watermelon',\n",
       " 'honeydew',\n",
       " 'blueberry',\n",
       " 'blackberry',\n",
       " 'gooseberry',\n",
       " 'papaya']"
      ]
     },
     "execution_count": 17,
     "metadata": {},
     "output_type": "execute_result"
    }
   ],
   "source": [
    "list(uniquestring)"
   ]
  },
  {
   "cell_type": "markdown",
   "id": "f6feafae",
   "metadata": {},
   "source": [
    "### 8.Determine how many times each unique string value occurs in fruits."
   ]
  },
  {
   "cell_type": "code",
   "execution_count": 18,
   "id": "7dbd4735",
   "metadata": {},
   "outputs": [],
   "source": [
    "fruitcount = my_series.value_counts()"
   ]
  },
  {
   "cell_type": "code",
   "execution_count": 19,
   "id": "492211c9",
   "metadata": {},
   "outputs": [
    {
     "data": {
      "text/plain": [
       "kiwi                4\n",
       "mango               2\n",
       "strawberry          1\n",
       "pineapple           1\n",
       "gala apple          1\n",
       "honeycrisp apple    1\n",
       "tomato              1\n",
       "watermelon          1\n",
       "honeydew            1\n",
       "blueberry           1\n",
       "blackberry          1\n",
       "gooseberry          1\n",
       "papaya              1\n",
       "dtype: int64"
      ]
     },
     "execution_count": 19,
     "metadata": {},
     "output_type": "execute_result"
    }
   ],
   "source": [
    "fruitcount"
   ]
  },
  {
   "cell_type": "markdown",
   "id": "259b563d",
   "metadata": {},
   "source": [
    "### 9.Determine the string value that occurs most frequently in fruits."
   ]
  },
  {
   "cell_type": "code",
   "execution_count": 20,
   "id": "6ed3d68f",
   "metadata": {},
   "outputs": [],
   "source": [
    "frequent = my_series.value_counts().index[0]"
   ]
  },
  {
   "cell_type": "code",
   "execution_count": 21,
   "id": "4d14ee98",
   "metadata": {},
   "outputs": [
    {
     "data": {
      "text/plain": [
       "'kiwi'"
      ]
     },
     "execution_count": 21,
     "metadata": {},
     "output_type": "execute_result"
    }
   ],
   "source": [
    "frequent"
   ]
  },
  {
   "cell_type": "markdown",
   "id": "5f5fecde",
   "metadata": {},
   "source": [
    "### 10.Determine the string value that occurs least frequently in fruits."
   ]
  },
  {
   "cell_type": "code",
   "execution_count": 22,
   "id": "2c351224",
   "metadata": {},
   "outputs": [],
   "source": [
    "least = my_series.value_counts().index[-1]"
   ]
  },
  {
   "cell_type": "code",
   "execution_count": 23,
   "id": "0ff85e38",
   "metadata": {
    "scrolled": true
   },
   "outputs": [
    {
     "data": {
      "text/plain": [
       "'papaya'"
      ]
     },
     "execution_count": 23,
     "metadata": {},
     "output_type": "execute_result"
    }
   ],
   "source": [
    "least"
   ]
  },
  {
   "cell_type": "markdown",
   "id": "2b5dc80a",
   "metadata": {},
   "source": [
    "# or"
   ]
  },
  {
   "cell_type": "code",
   "execution_count": 24,
   "id": "2da079a8",
   "metadata": {},
   "outputs": [],
   "source": [
    "least = my_series.value_counts()\n",
    "all_least = least[least == least.min()]\n"
   ]
  },
  {
   "cell_type": "code",
   "execution_count": 25,
   "id": "6f45d217",
   "metadata": {
    "scrolled": false
   },
   "outputs": [
    {
     "data": {
      "text/plain": [
       "strawberry          1\n",
       "pineapple           1\n",
       "gala apple          1\n",
       "honeycrisp apple    1\n",
       "tomato              1\n",
       "watermelon          1\n",
       "honeydew            1\n",
       "blueberry           1\n",
       "blackberry          1\n",
       "gooseberry          1\n",
       "papaya              1\n",
       "dtype: int64"
      ]
     },
     "execution_count": 25,
     "metadata": {},
     "output_type": "execute_result"
    }
   ],
   "source": [
    "all_least"
   ]
  },
  {
   "cell_type": "markdown",
   "id": "c83e1c60",
   "metadata": {},
   "source": [
    "# OR BETTER WAY"
   ]
  },
  {
   "cell_type": "code",
   "execution_count": 26,
   "id": "c446a003",
   "metadata": {},
   "outputs": [],
   "source": [
    "order_fruits = fruitcount.nsmallest(n=1, keep = 'all')"
   ]
  },
  {
   "cell_type": "code",
   "execution_count": 27,
   "id": "a8ffd2ec",
   "metadata": {
    "scrolled": true
   },
   "outputs": [
    {
     "data": {
      "text/plain": [
       "strawberry          1\n",
       "pineapple           1\n",
       "gala apple          1\n",
       "honeycrisp apple    1\n",
       "tomato              1\n",
       "watermelon          1\n",
       "honeydew            1\n",
       "blueberry           1\n",
       "blackberry          1\n",
       "gooseberry          1\n",
       "papaya              1\n",
       "dtype: int64"
      ]
     },
     "execution_count": 27,
     "metadata": {},
     "output_type": "execute_result"
    }
   ],
   "source": [
    "order_fruits"
   ]
  },
  {
   "cell_type": "markdown",
   "id": "4772ea9a",
   "metadata": {},
   "source": [
    "# Exercise Pt. II\n",
    "\n",
    "### 1.Capitalize all the string values in fruits.\n",
    "### "
   ]
  },
  {
   "cell_type": "code",
   "execution_count": 28,
   "id": "8bfe82fe",
   "metadata": {},
   "outputs": [
    {
     "data": {
      "text/plain": [
       "0                 KIWI\n",
       "1                MANGO\n",
       "2           STRAWBERRY\n",
       "3            PINEAPPLE\n",
       "4           GALA APPLE\n",
       "5     HONEYCRISP APPLE\n",
       "6               TOMATO\n",
       "7           WATERMELON\n",
       "8             HONEYDEW\n",
       "9                 KIWI\n",
       "10                KIWI\n",
       "11                KIWI\n",
       "12               MANGO\n",
       "13           BLUEBERRY\n",
       "14          BLACKBERRY\n",
       "15          GOOSEBERRY\n",
       "16              PAPAYA\n",
       "dtype: object"
      ]
     },
     "execution_count": 28,
     "metadata": {},
     "output_type": "execute_result"
    }
   ],
   "source": [
    "my_series.str.upper()"
   ]
  },
  {
   "cell_type": "markdown",
   "id": "842d9bba",
   "metadata": {},
   "source": [
    "### 2.Count the letter \"a\" in all the string values (use string vectorization).\n",
    "### "
   ]
  },
  {
   "cell_type": "code",
   "execution_count": 29,
   "id": "5173ffe5",
   "metadata": {},
   "outputs": [
    {
     "data": {
      "text/plain": [
       "0     0\n",
       "1     1\n",
       "2     1\n",
       "3     1\n",
       "4     3\n",
       "5     1\n",
       "6     1\n",
       "7     1\n",
       "8     0\n",
       "9     0\n",
       "10    0\n",
       "11    0\n",
       "12    1\n",
       "13    0\n",
       "14    1\n",
       "15    0\n",
       "16    3\n",
       "dtype: int64"
      ]
     },
     "execution_count": 29,
     "metadata": {},
     "output_type": "execute_result"
    }
   ],
   "source": [
    "my_series.str.count('a')"
   ]
  },
  {
   "cell_type": "markdown",
   "id": "22cae9ff",
   "metadata": {},
   "source": [
    "### 3.Output the number of vowels in each and every string value.\n",
    "###"
   ]
  },
  {
   "cell_type": "code",
   "execution_count": 30,
   "id": "3681510f",
   "metadata": {},
   "outputs": [
    {
     "data": {
      "text/plain": [
       "0     2\n",
       "1     2\n",
       "2     2\n",
       "3     4\n",
       "4     4\n",
       "5     5\n",
       "6     3\n",
       "7     4\n",
       "8     3\n",
       "9     2\n",
       "10    2\n",
       "11    2\n",
       "12    2\n",
       "13    3\n",
       "14    2\n",
       "15    4\n",
       "16    3\n",
       "dtype: int64"
      ]
     },
     "execution_count": 30,
     "metadata": {},
     "output_type": "execute_result"
    }
   ],
   "source": [
    "my_series.str.count('[aeiou]')"
   ]
  },
  {
   "cell_type": "markdown",
   "id": "bdb089c4",
   "metadata": {},
   "source": [
    " \n",
    "### 4.Write the code to get the longest string value from fruits.\n",
    "### "
   ]
  },
  {
   "cell_type": "code",
   "execution_count": 31,
   "id": "c3decdf2",
   "metadata": {},
   "outputs": [
    {
     "data": {
      "text/plain": [
       "'honeycrisp apple'"
      ]
     },
     "execution_count": 31,
     "metadata": {},
     "output_type": "execute_result"
    }
   ],
   "source": [
    "longfruit = sorted(my_series, key = len)\n",
    "\n",
    "longfruit[-1]\n",
    "\n",
    "\n",
    "\n"
   ]
  },
  {
   "cell_type": "markdown",
   "id": "0e3a609d",
   "metadata": {},
   "source": [
    "### 5.Write the code to get the string values with 5 or more letters in the name.\n",
    "### "
   ]
  },
  {
   "cell_type": "code",
   "execution_count": 32,
   "id": "db0b2d43",
   "metadata": {
    "scrolled": true
   },
   "outputs": [
    {
     "data": {
      "text/plain": [
       "1                mango\n",
       "2           strawberry\n",
       "3            pineapple\n",
       "4           gala apple\n",
       "5     honeycrisp apple\n",
       "6               tomato\n",
       "7           watermelon\n",
       "8             honeydew\n",
       "12               mango\n",
       "13           blueberry\n",
       "14          blackberry\n",
       "15          gooseberry\n",
       "16              papaya\n",
       "dtype: object"
      ]
     },
     "execution_count": 32,
     "metadata": {},
     "output_type": "execute_result"
    }
   ],
   "source": [
    "count_of_letters = my_series.str.count('[abcdefghijklmnopqrstuvwxyz]')\n",
    "long_names = my_series[count_of_letters >= 5]\n",
    "long_names\n"
   ]
  },
  {
   "cell_type": "markdown",
   "id": "3158c6e7",
   "metadata": {},
   "source": [
    "### 6.Find the fruit(s) containing the letter \"o\" two or more times.\n",
    "### "
   ]
  },
  {
   "cell_type": "code",
   "execution_count": 33,
   "id": "3d4e69aa",
   "metadata": {},
   "outputs": [
    {
     "data": {
      "text/plain": [
       "6         tomato\n",
       "15    gooseberry\n",
       "dtype: object"
      ]
     },
     "execution_count": 33,
     "metadata": {},
     "output_type": "execute_result"
    }
   ],
   "source": [
    "count_of_letters = my_series.str.count('o')\n",
    "o_names = my_series[count_of_letters >= 2]\n",
    "o_names\n"
   ]
  },
  {
   "cell_type": "markdown",
   "id": "7bd58337",
   "metadata": {},
   "source": [
    "### 7.Write the code to get only the string values containing the substring \"berry\".\n",
    "### "
   ]
  },
  {
   "cell_type": "code",
   "execution_count": 34,
   "id": "f0549257",
   "metadata": {},
   "outputs": [
    {
     "data": {
      "text/plain": [
       "2     strawberry\n",
       "13     blueberry\n",
       "14    blackberry\n",
       "15    gooseberry\n",
       "dtype: object"
      ]
     },
     "execution_count": 34,
     "metadata": {},
     "output_type": "execute_result"
    }
   ],
   "source": [
    "berry_names = my_series[my_series.str.endswith('berry')]\n",
    "berry_names"
   ]
  },
  {
   "cell_type": "markdown",
   "id": "eb57f564",
   "metadata": {},
   "source": [
    "### 8.Write the code to get only the string values containing the substring \"apple\".\n",
    "###"
   ]
  },
  {
   "cell_type": "code",
   "execution_count": 35,
   "id": "ccf688bb",
   "metadata": {},
   "outputs": [
    {
     "data": {
      "text/plain": [
       "3           pineapple\n",
       "4          gala apple\n",
       "5    honeycrisp apple\n",
       "dtype: object"
      ]
     },
     "execution_count": 35,
     "metadata": {},
     "output_type": "execute_result"
    }
   ],
   "source": [
    "apple_names = my_series[my_series.str.contains('apple')]\n",
    "apple_names"
   ]
  },
  {
   "cell_type": "markdown",
   "id": "caf4fc1d",
   "metadata": {},
   "source": [
    " \n",
    "### 9.Which string value contains the most vowels?"
   ]
  },
  {
   "cell_type": "code",
   "execution_count": 36,
   "id": "7f2bb944",
   "metadata": {},
   "outputs": [
    {
     "data": {
      "text/plain": [
       "'honeycrisp apple'"
      ]
     },
     "execution_count": 36,
     "metadata": {},
     "output_type": "execute_result"
    }
   ],
   "source": [
    "apple_names = my_series[my_series.str.count('[aeiou]')]\n",
    "\n",
    "most_vowels = sorted(apple_names, key = len)\n",
    "\n",
    "most_vowels[-1]"
   ]
  },
  {
   "cell_type": "markdown",
   "id": "2d1c2a93",
   "metadata": {},
   "source": [
    "# Exercises Part III\n",
    "\n",
    "### Use pandas to create a Series named letters from the following string. The easiest way to make this string into a Pandas series is to use list to convert each individual letter into a single string on a basic Python list.\n",
    "```\n",
    "'hnvidduckkqxwymbimkccexbkmqygkxoyndmcxnwqarhyffsjpsrabtjzsypmzadfavyrnndndvswreauxovncxtwzpwejilzjrmmbbgbyxvjtewqthafnbkqplarokkyydtubbmnexoypulzwfhqvckdpqtpoppzqrmcvhhpwgjwupgzhiofohawytlsiyecuproguy'\n",
    "```"
   ]
  },
  {
   "cell_type": "code",
   "execution_count": 37,
   "id": "32a56b14",
   "metadata": {},
   "outputs": [
    {
     "data": {
      "text/plain": [
       "0      h\n",
       "1      n\n",
       "2      v\n",
       "3      i\n",
       "4      d\n",
       "      ..\n",
       "195    r\n",
       "196    o\n",
       "197    g\n",
       "198    u\n",
       "199    y\n",
       "Length: 200, dtype: object"
      ]
     },
     "execution_count": 37,
     "metadata": {},
     "output_type": "execute_result"
    }
   ],
   "source": [
    "letter_data = 'hnvidduckkqxwymbimkccexbkmqygkxoyndmcxnwqarhyffsjpsrabtjzsypmzadfavyrnndndvswreauxovncxtwzpwejilzjrmmbbgbyxvjtewqthafnbkqplarokkyydtubbmnexoypulzwfhqvckdpqtpoppzqrmcvhhpwgjwupgzhiofohawytlsiyecuproguy'\n",
    "letter_list = list(letter_data)\n",
    "letters = pd.Series(letter_list)\n",
    "\n",
    "letters"
   ]
  },
  {
   "cell_type": "markdown",
   "id": "c823d369",
   "metadata": {},
   "source": [
    "\n",
    "### \n",
    "### Which letter occurs the most frequently in the letters Series?\n",
    "### "
   ]
  },
  {
   "cell_type": "code",
   "execution_count": 38,
   "id": "466be2f8",
   "metadata": {},
   "outputs": [
    {
     "data": {
      "text/plain": [
       "'y'"
      ]
     },
     "execution_count": 38,
     "metadata": {},
     "output_type": "execute_result"
    }
   ],
   "source": [
    "frequent = letters.value_counts().index[0]\n",
    "\n",
    "frequent"
   ]
  },
  {
   "cell_type": "markdown",
   "id": "6b3f6991",
   "metadata": {},
   "source": [
    "### Which letter occurs the Least frequently?\n",
    "### "
   ]
  },
  {
   "cell_type": "code",
   "execution_count": 39,
   "id": "4165cdfc",
   "metadata": {},
   "outputs": [
    {
     "data": {
      "text/plain": [
       "'l'"
      ]
     },
     "execution_count": 39,
     "metadata": {},
     "output_type": "execute_result"
    }
   ],
   "source": [
    "frequent = letters.value_counts().index[-1]\n",
    "\n",
    "frequent"
   ]
  },
  {
   "cell_type": "markdown",
   "id": "e3bdee38",
   "metadata": {},
   "source": [
    "### How many vowels are in the Series?\n",
    "### "
   ]
  },
  {
   "cell_type": "code",
   "execution_count": 40,
   "id": "8bbcc85d",
   "metadata": {},
   "outputs": [
    {
     "data": {
      "text/plain": [
       "34"
      ]
     },
     "execution_count": 40,
     "metadata": {},
     "output_type": "execute_result"
    }
   ],
   "source": [
    "num_vowels = letters.str.count('[aeiou]')\n",
    "\n",
    "sum(num_vowels)"
   ]
  },
  {
   "cell_type": "markdown",
   "id": "015fb90b",
   "metadata": {},
   "source": [
    "### How many consonants are in the Series?\n",
    "### "
   ]
  },
  {
   "cell_type": "code",
   "execution_count": 41,
   "id": "eb639950",
   "metadata": {},
   "outputs": [
    {
     "data": {
      "text/plain": [
       "166"
      ]
     },
     "execution_count": 41,
     "metadata": {},
     "output_type": "execute_result"
    }
   ],
   "source": [
    "num_consonants = letters.str.count('[bcdfghjklmnpqrstvwxyz]')\n",
    "\n",
    "sum(num_consonants)"
   ]
  },
  {
   "cell_type": "markdown",
   "id": "9e285434",
   "metadata": {},
   "source": [
    "### Create a Series that has all of the same letters but uppercased.\n",
    "### "
   ]
  },
  {
   "cell_type": "code",
   "execution_count": 42,
   "id": "6c3a4c61",
   "metadata": {},
   "outputs": [
    {
     "data": {
      "text/plain": [
       "0      H\n",
       "1      N\n",
       "2      V\n",
       "3      I\n",
       "4      D\n",
       "      ..\n",
       "195    R\n",
       "196    O\n",
       "197    G\n",
       "198    U\n",
       "199    Y\n",
       "Length: 200, dtype: object"
      ]
     },
     "execution_count": 42,
     "metadata": {},
     "output_type": "execute_result"
    }
   ],
   "source": [
    "caps = letters.str.upper()\n",
    "\n",
    "caps"
   ]
  },
  {
   "cell_type": "markdown",
   "id": "0b1a2348",
   "metadata": {},
   "source": [
    "### Create a bar plot of the frequencies of the 6 most commonly occuring letters.\n",
    "### "
   ]
  },
  {
   "cell_type": "code",
   "execution_count": 43,
   "id": "a7684aa3",
   "metadata": {},
   "outputs": [
    {
     "data": {
      "text/plain": [
       "y    13\n",
       "p    12\n",
       "w    10\n",
       "b     9\n",
       "n     9\n",
       "k     9\n",
       "dtype: int64"
      ]
     },
     "execution_count": 43,
     "metadata": {},
     "output_type": "execute_result"
    }
   ],
   "source": [
    "six_frequent = letters.value_counts().head(6)\n",
    "\n",
    "six_frequent\n"
   ]
  },
  {
   "cell_type": "code",
   "execution_count": 65,
   "id": "b022cc98",
   "metadata": {
    "scrolled": true
   },
   "outputs": [
    {
     "data": {
      "text/plain": [
       "[Text(0.5, 0, 'Letter'), Text(0, 0.5, 'Frequency')]"
      ]
     },
     "execution_count": 65,
     "metadata": {},
     "output_type": "execute_result"
    },
    {
     "data": {
      "image/png": "[encoded data removed]",
      "text/plain": [
       "<Figure size 640x480 with 1 Axes>"
      ]
     },
     "metadata": {},
     "output_type": "display_data"
    }
   ],
   "source": [
    "(\n",
    "    six_frequent.plot.bar(title='Letter Frequency', \n",
    "                            rot=0, \n",
    "                            color='firebrick', \n",
    "                            ec='black',\n",
    "                            width=.9).set(xlabel='Letter',\n",
    "                            ylabel='Frequency')\n",
    ")"
   ]
  },
  {
   "cell_type": "markdown",
   "id": "5234a6ca",
   "metadata": {},
   "source": [
    "### Use pandas to create a Series named numbers from the following list:\n",
    "### \n",
    "### \n",
    "```\n",
    "['$796,459.41', '$278.60', '$482,571.67', '$4,503,915.98', '$2,121,418.3', '$1,260,813.3', '$87,231.01', '$1,509,175.45', '$4,138,548.00', '$2,848,913.80', '$594,715.39', '$4,789,988.17', '$4,513,644.5', '$3,191,059.97', '$1,758,712.24', '$4,338,283.54', '$4,738,303.38', '$2,791,759.67', '$769,681.94', '$452,650.23']\n",
    "```\n",
    "### "
   ]
  },
  {
   "cell_type": "code",
   "execution_count": 45,
   "id": "32c635e9",
   "metadata": {},
   "outputs": [],
   "source": [
    "num_data = '$796,459.41', '$278.60', '$482,571.67', '$4,503,915.98', '$2,121,418.3', '$1,260,813.3', '$87,231.01', '$1,509,175.45', '$4,138,548.00', '$2,848,913.80', '$594,715.39', '$4,789,988.17', '$4,513,644.5', '$3,191,059.97', '$1,758,712.24', '$4,338,283.54', '$4,738,303.38', '$2,791,759.67', '$769,681.94', '$452,650.23'"
   ]
  },
  {
   "cell_type": "code",
   "execution_count": 46,
   "id": "e24f9894",
   "metadata": {},
   "outputs": [
    {
     "data": {
      "text/plain": [
       "0       $796,459.41\n",
       "1           $278.60\n",
       "2       $482,571.67\n",
       "3     $4,503,915.98\n",
       "4      $2,121,418.3\n",
       "5      $1,260,813.3\n",
       "6        $87,231.01\n",
       "7     $1,509,175.45\n",
       "8     $4,138,548.00\n",
       "9     $2,848,913.80\n",
       "10      $594,715.39\n",
       "11    $4,789,988.17\n",
       "12     $4,513,644.5\n",
       "13    $3,191,059.97\n",
       "14    $1,758,712.24\n",
       "15    $4,338,283.54\n",
       "16    $4,738,303.38\n",
       "17    $2,791,759.67\n",
       "18      $769,681.94\n",
       "19      $452,650.23\n",
       "dtype: object"
      ]
     },
     "execution_count": 46,
     "metadata": {},
     "output_type": "execute_result"
    }
   ],
   "source": [
    "num_list = list(num_data)\n",
    "num_series = pd.Series(num_list)\n",
    "num_series"
   ]
  },
  {
   "cell_type": "markdown",
   "id": "316feade",
   "metadata": {},
   "source": [
    "### What is the data type of the numbers Series?\n",
    "### "
   ]
  },
  {
   "cell_type": "code",
   "execution_count": 47,
   "id": "5eb0fc94",
   "metadata": {},
   "outputs": [
    {
     "data": {
      "text/plain": [
       "dtype('O')"
      ]
     },
     "execution_count": 47,
     "metadata": {},
     "output_type": "execute_result"
    }
   ],
   "source": [
    "num_series.dtype"
   ]
  },
  {
   "cell_type": "markdown",
   "id": "63606c00",
   "metadata": {},
   "source": [
    "### How many elements are in the number Series?\n",
    "### "
   ]
  },
  {
   "cell_type": "code",
   "execution_count": 48,
   "id": "17a65a24",
   "metadata": {},
   "outputs": [
    {
     "data": {
      "text/plain": [
       "20"
      ]
     },
     "execution_count": 48,
     "metadata": {},
     "output_type": "execute_result"
    }
   ],
   "source": [
    "num_series.size"
   ]
  },
  {
   "cell_type": "markdown",
   "id": "124b151f",
   "metadata": {},
   "source": [
    "### Perform the necessary manipulations by accessing Series attributes and methods to convert the numbers Series to a numeric data type.\n",
    "###"
   ]
  },
  {
   "cell_type": "code",
   "execution_count": 49,
   "id": "4cf6dd16",
   "metadata": {
    "scrolled": true
   },
   "outputs": [
    {
     "data": {
      "text/plain": [
       "0      796459.41\n",
       "1         278.60\n",
       "2      482571.67\n",
       "3     4503915.98\n",
       "4     2121418.30\n",
       "5     1260813.30\n",
       "6       87231.01\n",
       "7     1509175.45\n",
       "8     4138548.00\n",
       "9     2848913.80\n",
       "10     594715.39\n",
       "11    4789988.17\n",
       "12    4513644.50\n",
       "13    3191059.97\n",
       "14    1758712.24\n",
       "15    4338283.54\n",
       "16    4738303.38\n",
       "17    2791759.67\n",
       "18     769681.94\n",
       "19     452650.23\n",
       "dtype: float64"
      ]
     },
     "execution_count": 49,
     "metadata": {},
     "output_type": "execute_result"
    }
   ],
   "source": [
    "import pandas as pd\n",
    "\n",
    "numbers = pd.Series([\n",
    "    '$796,459.41', '$278.60', '$482,571.67', '$4,503,915.98', '$2,121,418.3', '$1,260,813.3',\n",
    "    '$87,231.01', '$1,509,175.45', '$4,138,548.00', '$2,848,913.80', '$594,715.39', '$4,789,988.17',\n",
    "    '$4,513,644.5', '$3,191,059.97', '$1,758,712.24', '$4,338,283.54', '$4,738,303.38', '$2,791,759.67',\n",
    "    '$769,681.94', '$452,650.23'\n",
    "])\n",
    "\n",
    "numbers = numbers.str.replace('[$,]','',regex = True).astype(float)\n",
    "numbers\n"
   ]
  },
  {
   "cell_type": "markdown",
   "id": "8756ac8c",
   "metadata": {},
   "source": [
    " \n",
    "### Run the code to discover the maximum value from the Series.\n",
    "### "
   ]
  },
  {
   "cell_type": "code",
   "execution_count": 67,
   "id": "5555b78b",
   "metadata": {
    "scrolled": true
   },
   "outputs": [
    {
     "data": {
      "text/plain": [
       "4789988.17"
      ]
     },
     "execution_count": 67,
     "metadata": {},
     "output_type": "execute_result"
    }
   ],
   "source": [
    "numbers.max()"
   ]
  },
  {
   "cell_type": "markdown",
   "id": "cc3db411",
   "metadata": {},
   "source": [
    "### Run the code to discover the minimum value from the Series.\n",
    "### "
   ]
  },
  {
   "cell_type": "code",
   "execution_count": 66,
   "id": "c30ec864",
   "metadata": {},
   "outputs": [
    {
     "data": {
      "text/plain": [
       "278.6"
      ]
     },
     "execution_count": 66,
     "metadata": {},
     "output_type": "execute_result"
    }
   ],
   "source": [
    "numbers.min()"
   ]
  },
  {
   "cell_type": "markdown",
   "id": "64f12b3b",
   "metadata": {},
   "source": [
    " \n",
    "### What is the range of the values in the Series?\n",
    "### "
   ]
  },
  {
   "cell_type": "code",
   "execution_count": 52,
   "id": "7ad8f62c",
   "metadata": {},
   "outputs": [],
   "source": [
    "range_value = numbers.max()-numbers.min()"
   ]
  },
  {
   "cell_type": "code",
   "execution_count": 53,
   "id": "c0a115c4",
   "metadata": {},
   "outputs": [
    {
     "data": {
      "text/plain": [
       "4789709.57"
      ]
     },
     "execution_count": 53,
     "metadata": {},
     "output_type": "execute_result"
    }
   ],
   "source": [
    "range_value"
   ]
  },
  {
   "cell_type": "markdown",
   "id": "6fa67b59",
   "metadata": {},
   "source": [
    "### Bin the data into 4 equally sized intervals or bins and output how many values fall into each bin.\n",
    "### "
   ]
  },
  {
   "cell_type": "code",
   "execution_count": 54,
   "id": "df7cbd42",
   "metadata": {},
   "outputs": [
    {
     "data": {
      "text/plain": [
       "(-4511.111, 1197705.993]      7\n",
       "(3592560.778, 4789988.17]     6\n",
       "(1197705.993, 2395133.385]    4\n",
       "(2395133.385, 3592560.778]    3\n",
       "dtype: int64"
      ]
     },
     "execution_count": 54,
     "metadata": {},
     "output_type": "execute_result"
    }
   ],
   "source": [
    "num_plot = numbers.value_counts(bins=4)\n",
    "num_plot"
   ]
  },
  {
   "cell_type": "markdown",
   "id": "6ae94da3",
   "metadata": {},
   "source": [
    "### Plot the binned data in a meaningful way. Be sure to include a title and axis labels.\n",
    "### "
   ]
  },
  {
   "cell_type": "code",
   "execution_count": 69,
   "id": "3a9907a5",
   "metadata": {},
   "outputs": [
    {
     "data": {
      "text/plain": [
       "[Text(0.5, 0, '$'), Text(0, 0.5, 'count')]"
      ]
     },
     "execution_count": 69,
     "metadata": {},
     "output_type": "execute_result"
    },
    {
     "data": {
      "image/png": "[encoded data removed]",
      "text/plain": [
       "<Figure size 640x480 with 1 Axes>"
      ]
     },
     "metadata": {},
     "output_type": "display_data"
    }
   ],
   "source": [
    "(\n",
    "    num_plot.plot.bar(title='finances', \n",
    "                            rot=90, \n",
    "                            color='firebrick', \n",
    "                            ec='black',\n",
    "                            width = .95).set(xlabel='$',\n",
    "                            ylabel='count')\n",
    "    \n",
    ")\n",
    "\n",
    "\n"
   ]
  },
  {
   "cell_type": "markdown",
   "id": "ee146ed8",
   "metadata": {},
   "source": [
    "### Use pandas to create a Series named exam_scores from the following list:\n",
    "### \n",
    "```\n",
    "[60, 86, 75, 62, 93, 71, 60, 83, 95, 78, 65, 72, 69, 81, 96, 80, 85, 92, 82, 78]\n",
    "```\n",
    "\n",
    "### "
   ]
  },
  {
   "cell_type": "code",
   "execution_count": 56,
   "id": "33f3a493",
   "metadata": {},
   "outputs": [],
   "source": [
    "exam_scores = pd.Series([60, 86, 75, 62, 93, 71, 60, 83, 95, 78, 65, 72, 69, 81, 96, 80, 85, 92, 82, 78])"
   ]
  },
  {
   "cell_type": "code",
   "execution_count": 57,
   "id": "eef253d7",
   "metadata": {
    "scrolled": true
   },
   "outputs": [
    {
     "data": {
      "text/plain": [
       "0     60\n",
       "1     86\n",
       "2     75\n",
       "3     62\n",
       "4     93\n",
       "5     71\n",
       "6     60\n",
       "7     83\n",
       "8     95\n",
       "9     78\n",
       "10    65\n",
       "11    72\n",
       "12    69\n",
       "13    81\n",
       "14    96\n",
       "15    80\n",
       "16    85\n",
       "17    92\n",
       "18    82\n",
       "19    78\n",
       "dtype: int64"
      ]
     },
     "execution_count": 57,
     "metadata": {},
     "output_type": "execute_result"
    }
   ],
   "source": [
    "exam_scores"
   ]
  },
  {
   "cell_type": "markdown",
   "id": "94a2e10b",
   "metadata": {},
   "source": [
    "### How many elements are in the exam_scores Series?\n",
    "### "
   ]
  },
  {
   "cell_type": "code",
   "execution_count": 58,
   "id": "d2115339",
   "metadata": {},
   "outputs": [
    {
     "data": {
      "text/plain": [
       "20"
      ]
     },
     "execution_count": 58,
     "metadata": {},
     "output_type": "execute_result"
    }
   ],
   "source": [
    "exam_scores.size"
   ]
  },
  {
   "cell_type": "markdown",
   "id": "8109460b",
   "metadata": {},
   "source": [
    "### Run the code to discover the minimum, the maximum, the mean, and the median scores for the exam_scores Series.\n",
    "### "
   ]
  },
  {
   "cell_type": "code",
   "execution_count": 59,
   "id": "e7ae0374",
   "metadata": {},
   "outputs": [
    {
     "data": {
      "text/plain": [
       "count    20.000000\n",
       "mean     78.150000\n",
       "std      11.352139\n",
       "min      60.000000\n",
       "25%      70.500000\n",
       "50%      79.000000\n",
       "75%      85.250000\n",
       "max      96.000000\n",
       "dtype: float64"
      ]
     },
     "execution_count": 59,
     "metadata": {},
     "output_type": "execute_result"
    }
   ],
   "source": [
    "exam_scores.describe()"
   ]
  },
  {
   "cell_type": "code",
   "execution_count": 60,
   "id": "d2afa2cf",
   "metadata": {},
   "outputs": [
    {
     "data": {
      "text/plain": [
       "79.0"
      ]
     },
     "execution_count": 60,
     "metadata": {},
     "output_type": "execute_result"
    }
   ],
   "source": [
    "exam_scores.median()"
   ]
  },
  {
   "cell_type": "markdown",
   "id": "cb2c3d94",
   "metadata": {},
   "source": [
    "### Plot the Series in a meaningful way and make sure your chart has a title and axis labels.\n",
    "### "
   ]
  },
  {
   "cell_type": "code",
   "execution_count": 61,
   "id": "54b9874b",
   "metadata": {},
   "outputs": [
    {
     "data": {
      "text/plain": [
       "[Text(0.5, 0, 'Student #'), Text(0, 0.5, 'Score')]"
      ]
     },
     "execution_count": 61,
     "metadata": {},
     "output_type": "execute_result"
    },
    {
     "data": {
      "image/png": "[encoded data removed]",
      "text/plain": [
       "<Figure size 640x480 with 1 Axes>"
      ]
     },
     "metadata": {},
     "output_type": "display_data"
    }
   ],
   "source": [
    "(\n",
    "    exam_scores.plot.bar(title='Exam Scores', \n",
    "                            rot=90, \n",
    "                            color='firebrick', \n",
    "                            ec='black',\n",
    "                            width = .7).set(xlabel='Student #',\n",
    "                            ylabel='Score')\n",
    "    \n",
    ")\n"
   ]
  },
  {
   "cell_type": "markdown",
   "id": "1dc35e43",
   "metadata": {},
   "source": [
    "### Write the code necessary to implement a curve for your exam_grades Series and save this as curved_grades. Add the necessary points to the highest grade to make it 100, and add the same number of points to every other score in the Series as well.\n",
    "### "
   ]
  },
  {
   "cell_type": "code",
   "execution_count": 62,
   "id": "fc461746",
   "metadata": {},
   "outputs": [
    {
     "data": {
      "text/plain": [
       "0      64\n",
       "1      90\n",
       "2      79\n",
       "3      66\n",
       "4      97\n",
       "5      75\n",
       "6      64\n",
       "7      87\n",
       "8      99\n",
       "9      82\n",
       "10     69\n",
       "11     76\n",
       "12     73\n",
       "13     85\n",
       "14    100\n",
       "15     84\n",
       "16     89\n",
       "17     96\n",
       "18     86\n",
       "19     82\n",
       "dtype: int64"
      ]
     },
     "execution_count": 62,
     "metadata": {},
     "output_type": "execute_result"
    }
   ],
   "source": [
    "curved_adj = 100 - exam_scores.max()\n",
    "curved_grades = exam_scores + curved_adj\n",
    "curved_grades"
   ]
  },
  {
   "cell_type": "markdown",
   "id": "c4cef199",
   "metadata": {},
   "source": [
    "### Use a method to convert each of the numeric values in the curved_grades Series into a categorical value of letter grades. For example, 86 should be a 'B' and 95 should be an 'A'. Save this as a Series named letter_grades.\n",
    "### "
   ]
  },
  {
   "cell_type": "code",
   "execution_count": 63,
   "id": "b0e898b5",
   "metadata": {},
   "outputs": [
    {
     "data": {
      "text/plain": [
       "0     D\n",
       "1     A\n",
       "2     C\n",
       "3     D\n",
       "4     A\n",
       "5     C\n",
       "6     D\n",
       "7     B\n",
       "8     A\n",
       "9     B\n",
       "10    D\n",
       "11    C\n",
       "12    C\n",
       "13    B\n",
       "14    A\n",
       "15    B\n",
       "16    B\n",
       "17    A\n",
       "18    B\n",
       "19    B\n",
       "dtype: category\n",
       "Categories (5, object): ['F' < 'D' < 'C' < 'B' < 'A']"
      ]
     },
     "execution_count": 63,
     "metadata": {},
     "output_type": "execute_result"
    }
   ],
   "source": [
    "bins = [0,59,69,79,89,100]\n",
    "labels = ['F','D','C','B','A']\n",
    "\n",
    "letter_grade = pd.cut(curved_grades, bins = bins,labels = labels)\n",
    "letter_grade"
   ]
  },
  {
   "cell_type": "markdown",
   "id": "e29a7aa3",
   "metadata": {},
   "source": [
    "### Plot your new categorical letter_grades Series in a meaninful way and include a title and axis labels."
   ]
  },
  {
   "cell_type": "code",
   "execution_count": 64,
   "id": "7fd230e1",
   "metadata": {
    "scrolled": false
   },
   "outputs": [
    {
     "data": {
      "text/plain": [
       "[Text(0.5, 0, 'Grade'), Text(0, 0.5, 'Student Total Per Grade')]"
      ]
     },
     "execution_count": 64,
     "metadata": {},
     "output_type": "execute_result"
    },
    {
     "data": {
      "image/png": "[encoded data removed]",
      "text/plain": [
       "<Figure size 640x480 with 1 Axes>"
      ]
     },
     "metadata": {},
     "output_type": "display_data"
    }
   ],
   "source": [
    "(\n",
    "    letter_grade.value_counts().plot.bar(title='Exam Grade', \n",
    "                            rot=0, \n",
    "                            color='firebrick', \n",
    "                            ec='black',\n",
    "                            width=.9).set(xlabel='Grade',\n",
    "                            ylabel='Student Total Per Grade')\n",
    ")\n",
    "\n"
   ]
  }
 ],
 "metadata": {
  "kernelspec": {
   "display_name": "Python 3 (ipykernel)",
   "language": "python",
   "name": "python3"
  },
  "language_info": {
   "codemirror_mode": {
    "name": "ipython",
    "version": 3
   },
   "file_extension": ".py",
   "mimetype": "text/x-python",
   "name": "python",
   "nbconvert_exporter": "python",
   "pygments_lexer": "ipython3",
   "version": "3.10.9"
  }
 },
 "nbformat": 4,
 "nbformat_minor": 5
}
